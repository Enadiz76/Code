{
 "cells": [
  {
   "cell_type": "markdown",
   "id": "d68d3a27",
   "metadata": {},
   "source": [
    "# COMP 3610 – A3\n",
    "\n",
    "- Zidane Timothy, Maia Neptune, Christophe Gittens"
   ]
  },
  {
   "cell_type": "code",
   "execution_count": 6,
   "id": "c908d9e1",
   "metadata": {},
   "outputs": [],
   "source": [
    "from pathlib import Path\n",
    "import os\n",
    "import tarfile\n",
    "import pandas as pd\n",
    "import shutil\n",
    "import glob\n",
    "\n",
    "import time, matplotlib.pyplot as plt, seaborn as sns, matplotlib.ticker as ticker\n",
    "import numpy as np\n",
    "\n",
    "\n",
    "from datasets import load_dataset, load_from_disk\n",
    "from pathlib import Path\n",
    "import pyarrow as pa\n",
    "import pyarrow.parquet as pq\n",
    "from datetime import datetime\n",
    "import json"
   ]
  },
  {
   "cell_type": "markdown",
   "id": "ae747668",
   "metadata": {},
   "source": [
    "Load clean and merge respective partioned categories"
   ]
  },
  {
   "cell_type": "code",
   "execution_count": 13,
   "id": "6ae06647",
   "metadata": {},
   "outputs": [],
   "source": [
    "# Load all cleaned pkl files\n",
    "def load_all_data(pkl_directory):\n",
    "    all_dfs = []\n",
    "\n",
    "    for file in os.listdir(pkl_directory):\n",
    "        if file.endswith(\".pkl.bz2\"):\n",
    "            file_path = os.path.join(pkl_directory, file)\n",
    "            df = pd.read_pickle(file_path, compression=\"bz2\")\n",
    "            all_dfs.append(df)\n",
    "\n",
    "    # Combine into a single DataFrame for EDA\n",
    "    full_df = pd.concat(all_dfs, ignore_index=True)\n",
    "    print(\"Combined dataframe shape:\", full_df.shape)\n",
    "\n",
    "    return full_df.copy()"
   ]
  },
  {
   "cell_type": "code",
   "execution_count": 14,
   "id": "443fb380",
   "metadata": {},
   "outputs": [
    {
     "name": "stdout",
     "output_type": "stream",
     "text": [
      "Combined dataframe shape: (6038828, 28)\n"
     ]
    }
   ],
   "source": [
    "start_path = r\"D:\\UWI\\Year 3\\Sem 2\\COMP3610-Big-Data\\Assignments\\Assignment#3\\A3\\datasets\\output_folder\\cleaned\"\n",
    "\n",
    "all_pkls = load_all_data(start_path)"
   ]
  },
  {
   "cell_type": "markdown",
   "id": "9146db3d",
   "metadata": {},
   "source": [
    "## Star Rating Histogram"
   ]
  },
  {
   "cell_type": "code",
   "execution_count": null,
   "id": "43142b90",
   "metadata": {},
   "outputs": [],
   "source": [
    "import matplotlib.pyplot as plt\n",
    "\n",
    "all_pkls[\"rating\"].value_counts().sort_index().plot(kind=\"bar\")\n",
    "plt.xlabel(\"Star Rating\")\n",
    "plt.ylabel(\"Number of Reviews\")\n",
    "plt.title(\"Distribution of Star Ratings\")\n",
    "plt.show()\n"
   ]
  },
  {
   "cell_type": "markdown",
   "id": "63630125",
   "metadata": {},
   "source": [
    "## Top 10 Categories"
   ]
  },
  {
   "cell_type": "code",
   "execution_count": null,
   "id": "c109d05e",
   "metadata": {},
   "outputs": [],
   "source": [
    "all_pkls[\"main category\"].value_counts().head(10).plot(kind=\"bar\")\n",
    "plt.xlabel(\"Main Category\")\n",
    "plt.ylabel(\"Review Count\")\n",
    "plt.title(\"Top 10 Categories by Review Count\")\n",
    "plt.xticks(rotation=45)\n",
    "plt.show()\n"
   ]
  },
  {
   "cell_type": "markdown",
   "id": "faadc8fb",
   "metadata": {},
   "source": [
    "## Top 10 Brands"
   ]
  },
  {
   "cell_type": "code",
   "execution_count": null,
   "id": "e8b4483c",
   "metadata": {},
   "outputs": [],
   "source": [
    "top_brands = all_pkls[all_pkls[\"brand\"] != \"Unknown\"]\n",
    "top_brands[\"brand\"].value_counts().head(10).plot(kind=\"bar\")\n",
    "plt.xlabel(\"Brand\")\n",
    "plt.ylabel(\"Review Count\")\n",
    "plt.title(\"Top 10 Brands by Review Count\")\n",
    "plt.xticks(rotation=45)\n",
    "plt.show()\n"
   ]
  },
  {
   "cell_type": "markdown",
   "id": "8e62416e",
   "metadata": {},
   "source": [
    "## Time-Based Trend"
   ]
  },
  {
   "cell_type": "code",
   "execution_count": null,
   "id": "ead0b6de",
   "metadata": {},
   "outputs": [],
   "source": [
    "yearly_avg = all_pkls.groupby(\"year\")[\"rating\"].mean()\n",
    "yearly_avg.plot(kind=\"line\", marker='o')\n",
    "plt.xlabel(\"Year\")\n",
    "plt.ylabel(\"Average Rating\")\n",
    "plt.title(\"Average Rating Over Time\")\n",
    "plt.grid(True)\n",
    "plt.show()"
   ]
  },
  {
   "cell_type": "markdown",
   "id": "12686fb9",
   "metadata": {},
   "source": [
    "## Correlation"
   ]
  },
  {
   "cell_type": "code",
   "execution_count": null,
   "id": "334f0494",
   "metadata": {},
   "outputs": [],
   "source": []
  }
 ],
 "metadata": {
  "kernelspec": {
   "display_name": "base",
   "language": "python",
   "name": "python3"
  },
  "language_info": {
   "codemirror_mode": {
    "name": "ipython",
    "version": 3
   },
   "file_extension": ".py",
   "mimetype": "text/x-python",
   "name": "python",
   "nbconvert_exporter": "python",
   "pygments_lexer": "ipython3",
   "version": "3.11.7"
  }
 },
 "nbformat": 4,
 "nbformat_minor": 5
}
