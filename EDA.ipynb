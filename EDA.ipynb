{
 "cells": [
  {
   "cell_type": "markdown",
   "id": "d68d3a27",
   "metadata": {},
   "source": [
    "# COMP 3610 – A3\n",
    "\n",
    "- Zidane Timothy, Maia Neptune, Christophe Gittens"
   ]
  },
  {
   "cell_type": "code",
   "execution_count": 6,
   "id": "c908d9e1",
   "metadata": {},
   "outputs": [],
   "source": [
    "from pathlib import Path\n",
    "import os\n",
    "import tarfile\n",
    "import pandas as pd\n",
    "import shutil\n",
    "import glob\n",
    "\n",
    "import time, matplotlib.pyplot as plt, seaborn as sns, matplotlib.ticker as ticker\n",
    "import numpy as np\n",
    "\n",
    "\n",
    "from datasets import load_dataset, load_from_disk\n",
    "from pathlib import Path\n",
    "import pyarrow as pa\n",
    "import pyarrow.parquet as pq\n",
    "from datetime import datetime\n",
    "import json"
   ]
  },
  {
   "cell_type": "markdown",
   "id": "ae747668",
   "metadata": {},
   "source": [
    "Load clean and merge respective partioned categories"
   ]
  },
  {
   "cell_type": "code",
   "execution_count": null,
   "id": "6ae06647",
   "metadata": {},
   "outputs": [],
   "source": [
    "# Load all cleaned pkl files\n",
    "def load_all_data(pkl_directory):\n",
    "    files = glob.glob(f\"{pkl_directory}/*.bz2\")\n",
    "    for files in pkl_directory:\n",
    "        mk_pkl = load_from_disk(pkl_directory)\n",
    "        pd.concat(mk_pkl, ignore_index=True)\n",
    "\n",
    "    # files = glob.glob(f\"{pkl_directory}/*.pkl.bz2\")\n",
    "    # dfs = [pd.read_pickle(f) for f in files]\n",
    "    # return pd.concat(dfs, ignore_index=True)\n",
    "\n",
    "\n",
    "    "
   ]
  },
  {
   "cell_type": "code",
   "execution_count": 10,
   "id": "443fb380",
   "metadata": {},
   "outputs": [],
   "source": [
    "start_path = r\"D:\\UWI\\Year 3\\Sem 2\\COMP3610-Big-Data\\Assignments\\Assignment#3\\A3\\datasets\\output_folder\\cleaned\"\n",
    "\n",
    "all_pkls = load_all_data(start_path)"
   ]
  }
 ],
 "metadata": {
  "kernelspec": {
   "display_name": "base",
   "language": "python",
   "name": "python3"
  },
  "language_info": {
   "codemirror_mode": {
    "name": "ipython",
    "version": 3
   },
   "file_extension": ".py",
   "mimetype": "text/x-python",
   "name": "python",
   "nbconvert_exporter": "python",
   "pygments_lexer": "ipython3",
   "version": "3.11.7"
  }
 },
 "nbformat": 4,
 "nbformat_minor": 5
}
