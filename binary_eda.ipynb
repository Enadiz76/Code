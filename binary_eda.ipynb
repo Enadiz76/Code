{
 "cells": [
  {
   "cell_type": "code",
   "execution_count": 1,
   "id": "e42d2dba",
   "metadata": {},
   "outputs": [],
   "source": [
    "import glob\n",
    "import os\n",
    "import duckdb\n",
    "import pandas as pd\n",
    "import matplotlib.pyplot as plt\n",
    "from collections import Counter"
   ]
  },
  {
   "cell_type": "code",
   "execution_count": 2,
   "id": "9fcdabee",
   "metadata": {},
   "outputs": [],
   "source": [
    "deduplicated_categories = [\n",
    "    'Electronics',\n",
    "    'Health_and_Houehold',\n",
    "    'Home_and_Kitchen',\n",
    "    'Office_Products',\n",
    "    'Patio_Lawn_and_Garden',\n",
    "    'Pet_Supplies',\n",
    "    'Software',\n",
    "    'Sports_and_Outdoors',\n",
    "    'Subscription_Boxes',\n",
    "    'Tools_and_Home_Improvement',\n",
    "    'Toys_and_Games',\n",
    "    'Video_Games',\n",
    "]"
   ]
  },
  {
   "cell_type": "code",
   "execution_count": 3,
   "id": "2b9281f4",
   "metadata": {},
   "outputs": [],
   "source": [
    "# Sample 20% of rows\n",
    "def sample_rows(input_path, sample_fraction=0.2):\n",
    "    # Read the parquet file with duckdb or pandas and take a sample\n",
    "    con = duckdb.connect()\n",
    "    df = con.execute(f\"SELECT * FROM read_parquet('{input_path}') LIMIT 1000000\").df()  # Load a subset to sample\n",
    "    con.close()\n",
    "    return df.sample(frac=sample_fraction, random_state=42)"
   ]
  },
  {
   "cell_type": "code",
   "execution_count": 4,
   "id": "0f8ed7d4",
   "metadata": {},
   "outputs": [],
   "source": [
    "# Deduplication process using DuckDB\n",
    "def deduplicate_parquet(input_path, output_path, dedup_columns, order_column='year'):\n",
    "    con = duckdb.connect()\n",
    "\n",
    "    # Assuming the parquet is already sampled (20% of the rows)\n",
    "    con.execute(\"DROP TABLE IF EXISTS deduplicated;\")\n",
    "    dedup_key = ', '.join(dedup_columns)\n",
    "\n",
    "    con.execute(f\"\"\"\n",
    "        CREATE TABLE deduplicated AS\n",
    "        SELECT * EXCLUDE(row_num)\n",
    "        FROM (\n",
    "            SELECT *,\n",
    "                ROW_NUMBER() OVER (\n",
    "                    PARTITION BY {dedup_key}\n",
    "                    ORDER BY {order_column}\n",
    "                ) AS row_num\n",
    "            FROM read_parquet('{input_path}', union_by_name=true)\n",
    "        )\n",
    "        WHERE row_num = 1;\n",
    "    \"\"\")\n",
    "\n",
    "    con.execute(f\"COPY deduplicated TO '{output_path}' (FORMAT PARQUET);\")\n",
    "    con.close()\n",
    "\n",
    "    print(f\"Deduplicated and saved to: {output_path}\\n\")"
   ]
  },
  {
   "cell_type": "code",
   "execution_count": 5,
   "id": "59f40546",
   "metadata": {},
   "outputs": [],
   "source": [
    "def process_mixed_files(input_dir, output_dir, dedup_columns, order_column='year', chunk_threshold_gb=2.0):\n",
    "    os.makedirs(output_dir, exist_ok=True)\n",
    "    all_parquets = glob.glob(os.path.join(input_dir, \"*_merged.parquet\"))\n",
    "\n",
    "    print(f\"Found {len(all_parquets)} '_merged' files to process...\\n\")\n",
    "\n",
    "    for input_path in all_parquets:\n",
    "        filename = os.path.basename(input_path)\n",
    "        name_wo_ext = filename.replace(\"_merged.parquet\", \"\")\n",
    "        category_name = name_wo_ext  # Assuming the category is embedded in the filename\n",
    "        output_path = os.path.join(output_dir, f\"{name_wo_ext}_deduped.parquet\")\n",
    "\n",
    "        # Check if the category has already been deduplicated\n",
    "        if category_name in deduplicated_categories:\n",
    "            print(f\"Skipping (already deduplicated): {filename}\")\n",
    "            # Simply read the file into a DuckDB table and write it out again (without processing)\n",
    "            con = duckdb.connect()\n",
    "            con.execute(f\"\"\"\n",
    "                CREATE TABLE temp_table AS SELECT * FROM read_parquet('{input_path}');\n",
    "            \"\"\")\n",
    "            con.execute(f\"COPY temp_table TO '{output_path}' (FORMAT PARQUET);\")\n",
    "            con.close()\n",
    "            continue\n",
    "\n",
    "        # Deduplicate only if not in the deduplicated list\n",
    "        print(f\"Deduplicating: {filename} (Category: {category_name})\")\n",
    "        file_size_gb = os.path.getsize(input_path) / (1024 ** 3)\n",
    "\n",
    "        # Sample 20% of the rows before deduplication\n",
    "        sampled_df = sample_rows(input_path)\n",
    "\n",
    "        # Save the sampled rows as a temporary parquet file for processing\n",
    "        sampled_input_path = input_path.replace(\".parquet\", \"_sampled.parquet\")\n",
    "        sampled_df.to_parquet(sampled_input_path)\n",
    "\n",
    "        # Deduplicate the sampled rows\n",
    "        deduplicate_parquet(sampled_input_path, output_path, dedup_columns, order_column)\n",
    "\n",
    "        # Clean up the sampled file\n",
    "        os.remove(sampled_input_path)\n",
    "\n",
    "        # After successful deduplication, add the category to the deduplicated list\n",
    "        deduplicated_categories.append(category_name)\n",
    "\n",
    "    print(\"🏁 All deduplication complete.\")\n"
   ]
  },
  {
   "cell_type": "code",
   "execution_count": 6,
   "id": "4806e71c",
   "metadata": {},
   "outputs": [],
   "source": [
    "deduplicated_categories = [\n",
    "    'Electronics',\n",
    "    'Health_and_Houehold',\n",
    "    'Home_and_Kitchen',\n",
    "    'Office_Products',\n",
    "    'Patio_Lawn_and_Garden',\n",
    "    'Pet_Supplies',\n",
    "    'Software',\n",
    "    'Sports_and_Outdoors',\n",
    "    'Subscription_Boxes',\n",
    "    'Tools_and_Home_Improvement',\n",
    "    'Toys_and_Games',\n",
    "    'Video_Games',\n",
    "]"
   ]
  },
  {
   "cell_type": "code",
   "execution_count": 7,
   "id": "ae3ddbe4",
   "metadata": {},
   "outputs": [],
   "source": [
    "# musical_instruments_path = os.path.join(input_dir, \"Musical_Instruments\" \\\n",
    "# \"_merged.parquet\")\n",
    "\n",
    "# # Sample 20% of the rows\n",
    "# musical_instruments_df = sample_rows(musical_instruments_path, sample_fraction=0.2)\n",
    "\n",
    "# print(musical_instruments_df.head())\n",
    "# musical_instruments_df"
   ]
  },
  {
   "cell_type": "code",
   "execution_count": null,
   "id": "b207b3fa",
   "metadata": {},
   "outputs": [
    {
     "name": "stdout",
     "output_type": "stream",
     "text": [
      "Found 33 '_merged' files to process...\n",
      "\n",
      "Skipping (already deduplicated): Video_Games_merged.parquet\n",
      "Deduplicating: Amazon_Fashion_merged.parquet (Category: Amazon_Fashion)\n",
      "Deduplicated and saved to: /root/cleaned_parquets/Amazon_Fashion_deduped.parquet\n",
      "\n",
      "Skipping (already deduplicated): Software_merged.parquet\n",
      "Deduplicating: Health_and_Personal_Care_merged.parquet (Category: Health_and_Personal_Care)\n",
      "Deduplicated and saved to: /root/cleaned_parquets/Health_and_Personal_Care_deduped.parquet\n",
      "\n",
      "Deduplicating: Arts_Crafts_and_Sewing_merged.parquet (Category: Arts_Crafts_and_Sewing)\n",
      "Deduplicated and saved to: /root/cleaned_parquets/Arts_Crafts_and_Sewing_deduped.parquet\n",
      "\n",
      "Skipping (already deduplicated): Home_and_Kitchen_merged.parquet\n"
     ]
    }
   ],
   "source": [
    "input_dir = \"/root/deduped_mix\"\n",
    "output_dir = \"/root/cleaned_parquets\"\n",
    "dedup_columns = ['user_id', 'asin', 'text']  # Specify your deduplication columns\n",
    "process_mixed_files(input_dir, output_dir, dedup_columns)"
   ]
  }
 ],
 "metadata": {
  "kernelspec": {
   "display_name": "venv",
   "language": "python",
   "name": "python3"
  },
  "language_info": {
   "codemirror_mode": {
    "name": "ipython",
    "version": 3
   },
   "file_extension": ".py",
   "mimetype": "text/x-python",
   "name": "python",
   "nbconvert_exporter": "python",
   "pygments_lexer": "ipython3",
   "version": "3.12.7"
  }
 },
 "nbformat": 4,
 "nbformat_minor": 5
}
