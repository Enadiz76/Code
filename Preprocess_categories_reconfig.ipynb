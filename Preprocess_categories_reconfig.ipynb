{
 "cells": [
  {
   "cell_type": "markdown",
   "id": "36343c78",
   "metadata": {},
   "source": [
    "### Imports"
   ]
  },
  {
   "cell_type": "code",
   "execution_count": null,
   "id": "8bf45298",
   "metadata": {},
   "outputs": [],
   "source": [
    "\n",
    "from pathlib import Path\n",
    "import os\n",
    "import tarfile\n",
    "import pandas as pd\n",
    "import shutil\n",
    "import time, matplotlib.pyplot as plt, seaborn as sns, matplotlib.ticker as ticker\n",
    "import numpy as np\n",
    "from datasets import load_dataset\n",
    "from pathlib import Path\n",
    "import pyarrow as pa\n",
    "import pyarrow.parquet as pq\n",
    "from datetime import datetime\n",
    "import json"
   ]
  },
  {
   "cell_type": "markdown",
   "id": "511bad0d",
   "metadata": {},
   "source": [
    "### Files/folders"
   ]
  },
  {
   "cell_type": "code",
   "execution_count": 1,
   "id": "9264b1e7",
   "metadata": {},
   "outputs": [],
   "source": [
    "reviews_path = \"C:\\Big Data\\A3\\Data\\reviews\" # path to all the raw review files\n",
    "meta_path = \"C:\\Big Data\\A3\\Data\\meta\"       # path to all the meta review files\n",
    "output_path_pkls = \"C:\\Big Data\\A3\\Data\\output\"   # path for where the first batch of pkl files go,\n",
    "                                                  # Two subdirectories are made, one for the review pkls and\n",
    "                                                  # one for the meta\n",
    "review_pkls_path = \"C:\\Big Data\\A3\\Data\\output\\review_pkl\" #path of the review pkl files\n",
    "meta_pkls_path = \"C:\\Big Data\\A3\\Data\\output\\meta_pkl\"     #path of the meta pkl files"
   ]
  },
  {
   "cell_type": "markdown",
   "id": "187605c2",
   "metadata": {},
   "source": [
    "### Categories to process"
   ]
  },
  {
   "cell_type": "code",
   "execution_count": null,
   "id": "a95bfaa5",
   "metadata": {},
   "outputs": [],
   "source": [
    "categories = ['Unknown', 'Magazine_Subscriptions', 'Movies_and_TV', \"Cell_Phones_and_Accessories\", \"Clothing_Shoes_and_Jewellery\", \"Digital_Music\", \"Hanmade_Products\", \"Baby_Products\", \"Beauty_and_Personal_Care\", \"Electronics\"] # These are the ones that we have left to run"
   ]
  },
  {
   "cell_type": "markdown",
   "id": "25b7b173",
   "metadata": {},
   "source": [
    "### Extract Arrow Files"
   ]
  },
  {
   "cell_type": "code",
   "execution_count": null,
   "id": "0880ed8c",
   "metadata": {},
   "outputs": [],
   "source": [
    "# Function for extracting the arrow files from the tar paths temporarily it is run in the preprocess category function\n",
    "extract_tar_bz2(tar_path, extract_dir)"
   ]
  },
  {
   "cell_type": "markdown",
   "id": "bd657d03",
   "metadata": {},
   "source": [
    "### Put together files to be placed into dataframes"
   ]
  },
  {
   "cell_type": "code",
   "execution_count": null,
   "id": "465f170d",
   "metadata": {},
   "outputs": [],
   "source": [
    "'''\n",
    "this function is used to extract all the arrow files and break them down to even smaller\n",
    "sizes if they pass a certain size limit. it then puts them together into tables and pkl file batches\n",
    "and deletes the temp folder of arrow files\n",
    "'''\n",
    "preprocess_category(review_tar_path, meta_tar_path, output_folder, category,batch_size=1000)\n"
   ]
  },
  {
   "cell_type": "markdown",
   "id": "cf5f4ba1",
   "metadata": {},
   "source": [
    "### Convert files to dataframes"
   ]
  },
  {
   "cell_type": "code",
   "execution_count": null,
   "id": "c78c1520",
   "metadata": {},
   "outputs": [],
   "source": [
    "# This function converts the pkl files to dataframes by taking in the pkl directories\n",
    "# feed the review pkl path with the category to here followed by the meta with the category\n",
    "# there is 2 separate calls to this function in the for loop below\n",
    "# the data frames returned need to be stored to be merged and then cleaned\n",
    "convert_to_df(folder, category)"
   ]
  },
  {
   "cell_type": "markdown",
   "id": "fb2554eb",
   "metadata": {},
   "source": [
    "### Clean categories"
   ]
  },
  {
   "cell_type": "code",
   "execution_count": null,
   "id": "f3e2299d",
   "metadata": {},
   "outputs": [],
   "source": [
    "# this function merges the review and meta data dataframes, cleans them \n",
    "# and returns the datframe made to ensure that it was put together and contains data\n",
    "clean_data(category)"
   ]
  },
  {
   "cell_type": "markdown",
   "id": "7cb6dcb0",
   "metadata": {},
   "source": [
    "### Process Categories"
   ]
  },
  {
   "cell_type": "code",
   "execution_count": null,
   "id": "c932e4e0",
   "metadata": {},
   "outputs": [],
   "source": [
    "# For loop to iterate the categories, clean them and convert to compressed pkl zips\n",
    "# also removes the uncompressed files from the system once they've been done\n",
    "for category in categories:\n",
    "    base_path = r\"\" # replace with path to tar files\n",
    "    meta_path = r\"\" # replace with path to meta pkl files\n",
    "    review_path = r\"\" # replace with path to review pkl files\n",
    "\n",
    "    # review pkled folder\n",
    "    rev_pkl  = r\"/root/Data/output_folder musical-video_games/reviews_pkl\" # Make sure this is the folder with review .pkl batches\n",
    "    meta_pkl = r\"/root/Data/output_folder musical-video_games/meta_pkl\"  # Make sure this is the folder with meta .pkl batches\n",
    "\n",
    "    # preprocess_category(meta_path, review_path, \"output_folder\", category)\n",
    "    review_df = convert_to_df(review_path, category)\n",
    "    meta_df = convert_to_df(meta_path, category)\n",
    "    cleaned = clean_data(category, review_df, meta_df)\n",
    "    print(cleaned)\n",
    "    del cleaned\n",
    "    del meta_df\n",
    "    del review_df\n",
    "\n",
    "    # remove the review and meta pkl files that aren't compressed\n",
    "    if os.path.exists(rev_pkl):\n",
    "        shutil.rmtree(rev_pkl)\n",
    "    else:\n",
    "        print(f\"{rev_pkl} path does not exist\")\n",
    "\n",
    "    if os.path.exists(meta_pkl):\n",
    "        shutil.rmtree(meta_pkl)\n",
    "    else:\n",
    "        print(f\"{meta_pkl} path does not exist\")"
   ]
  }
 ],
 "metadata": {
  "kernelspec": {
   "display_name": "base",
   "language": "python",
   "name": "python3"
  },
  "language_info": {
   "codemirror_mode": {
    "name": "ipython",
    "version": 3
   },
   "file_extension": ".py",
   "mimetype": "text/x-python",
   "name": "python",
   "nbconvert_exporter": "python",
   "pygments_lexer": "ipython3",
   "version": "3.11.7"
  }
 },
 "nbformat": 4,
 "nbformat_minor": 5
}
