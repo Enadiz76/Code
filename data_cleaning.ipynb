{
 "cells": [
  {
   "cell_type": "code",
   "execution_count": 7,
   "id": "8de916ed",
   "metadata": {},
   "outputs": [],
   "source": [
    "import os\n",
    "import pandas as pd\n",
    "from datasets import load_dataset\n",
    "from pathlib import Path\n",
    "import gc\n",
    "\n",
    "BASE_DIR = r\"/root\"\n",
    "RAW_DIR = os.path.join(BASE_DIR, \"Data\")\n",
    "CLEANED_DIR = os.path.join(BASE_DIR, \"cleaned_parquets\")\n",
    "os.makedirs(RAW_DIR, exist_ok=True)\n",
    "os.makedirs(CLEANED_DIR, exist_ok=True)\n"
   ]
  },
  {
   "cell_type": "code",
   "execution_count": null,
   "id": "772247db",
   "metadata": {},
   "outputs": [],
   "source": [
    "import tarfile\n",
    "import os\n",
    "\n",
    "def extract_tar_bz2_files(directory):\n",
    "    for file in os.listdir(directory):\n",
    "        if file.endswith(\".tar.bz2\"):\n",
    "            filepath = os.path.join(directory, file)\n",
    "            extract_dir = os.path.join(directory, file.replace(\".tar.bz2\", \"\"))\n",
    "            os.makedirs(extract_dir, exist_ok=True)\n",
    "\n",
    "            print(f\"Extracting: {file}\")\n",
    "            with tarfile.open(filepath, \"r:bz2\") as tar:\n",
    "                tar.extractall(path=extract_dir)\n"
   ]
  },
  {
   "cell_type": "code",
   "execution_count": null,
   "id": "c4458979",
   "metadata": {},
   "outputs": [],
   "source": [
    "extract_tar_bz2_files(RAW_DIR)\n"
   ]
  },
  {
   "cell_type": "code",
   "execution_count": null,
   "id": "69a7dd0f",
   "metadata": {},
   "outputs": [],
   "source": [
    "import pandas as pd\n",
    "import re\n",
    "import os\n",
    "\n",
    "def clean_and_merge_streaming(category):\n",
    "    review_path = os.path.join(RAW_DIR, f\"raw_review_{category}\", \"data.jsonl\")\n",
    "    meta_path = os.path.join(RAW_DIR, f\"raw_meta_{category}\", \"data.jsonl\")\n",
    "\n",
    "    try:\n",
    "        meta_df = pd.read_json(meta_path, lines=True)\n",
    "    except Exception as e:\n",
    "        print(f\"Meta load failed for {category}: {e}\")\n",
    "        return\n",
    "\n",
    "    # Preprocess metadata\n",
    "    meta_df[\"brand\"] = meta_df[\"details\"].apply(lambda d: d.get(\"brand\") if isinstance(d, dict) else \"Unknown\")\n",
    "    meta_df[\"brand\"].fillna(\"Unknown\", inplace=True)\n",
    "\n",
    "    save_path = os.path.join(CLEANED_DIR, f\"{category}.parquet\")\n",
    "    chunk_iter = pd.read_json(review_path, lines=True, chunksize=100_000)\n",
    "    \n",
    "    for i, chunk in enumerate(chunk_iter):\n",
    "        print(f\"[{category}] Processing chunk {i+1}\")\n",
    "\n",
    "        # Filter and clean\n",
    "        chunk = chunk.dropna(subset=[\"rating\", \"text\"])\n",
    "        chunk = chunk[chunk[\"rating\"].between(1, 5)]\n",
    "        chunk = chunk.drop_duplicates(subset=[\"user_id\", \"asin\", \"text\"])\n",
    "        chunk[\"review_length\"] = chunk[\"text\"].apply(lambda x: len(re.findall(r'\\w+', str(x))))\n",
    "        chunk[\"year\"] = pd.to_datetime(chunk[\"timestamp\"], unit='ms', errors='coerce').dt.year\n",
    "\n",
    "        # Merge\n",
    "        merged = pd.merge(chunk, meta_df, on=\"parent_asin\", how=\"left\")\n",
    "\n",
    "        # Append to parquet\n",
    "        if not os.path.exists(save_path):\n",
    "            merged.to_parquet(save_path, index=False)\n",
    "        else:\n",
    "            merged.to_parquet(save_path, index=False, append=True)\n",
    "\n",
    "    print(f\"Saved {category} to {save_path}\")\n"
   ]
  },
  {
   "cell_type": "code",
   "execution_count": null,
   "id": "dd2ba484",
   "metadata": {},
   "outputs": [],
   "source": [
    "from datasets import load_from_disk\n",
    "import os\n",
    "\n",
    "\n",
    "def arrow_to_parquet(category):\n",
    "    try:\n",
    "        review_dict = load_from_disk(os.path.join(RAW_DIR, f\"raw_review_{category}\", f\"raw_review_{category}\"))\n",
    "        meta_dict = load_from_disk(os.path.join(RAW_DIR, f\"raw_meta_{category}\", f\"raw_meta_{category}\"))\n",
    "\n",
    "        # Extract the 'full' split\n",
    "        review_ds = review_dict[\"full\"]\n",
    "        meta_ds = meta_dict[\"full\"]\n",
    "    except Exception as e:\n",
    "        print(f\"Skipping {category} — failed to load arrow or 'full' split: {e}\")\n",
    "        return\n",
    "\n",
    "    # Save to Parquet\n",
    "    review_path = os.path.join(CLEANED_DIR, f\"{category}_review.parquet\")\n",
    "    meta_path = os.path.join(CLEANED_DIR, f\"{category}_meta.parquet\")\n",
    "    print(f\"Exporting {category}...\")\n",
    "\n",
    "    review_ds.to_parquet(review_path)\n",
    "    meta_ds.to_parquet(meta_path)\n",
    "\n",
    "#Detect categories with both review and meta folders\n",
    "categories = [\n",
    "    name.replace(\"raw_review_\", \"\")\n",
    "    for name in os.listdir(RAW_DIR)\n",
    "    if name.startswith(\"raw_review_\")\n",
    "    and os.path.isdir(os.path.join(RAW_DIR, name))\n",
    "    and os.path.isdir(os.path.join(RAW_DIR, f\"raw_meta_{name.replace('raw_review_', '')}\"))\n",
    "]\n",
    "\n",
    "categories = ['All_Beauty', 'Amazon_Fashion', 'Appliances', 'Arts_Crafts_and_Sewing', 'Automotive', 'Baby_Products', 'Beauty_and_Personal_Care',\n",
    "              'Books', 'CDs_and_Vinyl', 'Cell_Phones_and_Accessories', 'Clothing_Shoes_and_Jewelry', 'Digital_Music', 'Electronics', 'Gift_Cards']\n",
    "\n",
    "for cat in categories:\n",
    "    arrow_to_parquet(cat)\n"
   ]
  },
  {
   "cell_type": "code",
   "execution_count": null,
   "id": "44f653c7",
   "metadata": {},
   "outputs": [],
   "source": [
    "import os\n",
    "\n",
    "\n",
    "# Only look for categories with review + meta parquet files\n",
    "def get_parquet_categories(cleaned_dir):\n",
    "    review_files = set(\n",
    "        f.replace(\"_review.parquet\", \"\")\n",
    "        for f in os.listdir(cleaned_dir) if f.endswith(\"_review.parquet\")\n",
    "    )\n",
    "    meta_files = set(\n",
    "        f.replace(\"_meta.parquet\", \"\")\n",
    "        for f in os.listdir(cleaned_dir) if f.endswith(\"_meta.parquet\")\n",
    "    )\n",
    "    return sorted(review_files & meta_files)\n",
    "\n",
    "categories = get_parquet_categories(CLEANED_DIR)\n",
    "print(\"Found categories:\", categories)\n"
   ]
  },
  {
   "cell_type": "code",
   "execution_count": 2,
   "id": "7ac4d9f3",
   "metadata": {},
   "outputs": [],
   "source": [
    "import duckdb\n",
    "import os\n",
    "\n",
    "def merge_parquet_to_duckdb(category, cleaned_dir):\n",
    "    review_path = os.path.join(cleaned_dir, f\"{category}_review.parquet\")\n",
    "    meta_path = os.path.join(cleaned_dir, f\"{category}_meta.parquet\")\n",
    "    output_path = os.path.join(cleaned_dir, f\"{category}_merged.parquet\")\n",
    "\n",
    "    if not os.path.exists(review_path) or not os.path.exists(meta_path):\n",
    "        print(f\"⚠ Skipping {category} — one of the parquet files is missing.\")\n",
    "        return\n",
    "\n",
    "    print(f\"Merging: {category}\")\n",
    "\n",
    "    con = duckdb.connect(database=os.path.join(cleaned_dir, \"temp_duckdb.db\"))\n",
    "\n",
    "    con.execute(f\"CREATE OR REPLACE TABLE review AS SELECT * FROM '{review_path}';\")\n",
    "\n",
    "    con.execute(f\"\"\"\n",
    "        CREATE OR REPLACE TABLE meta AS\n",
    "        SELECT *,\n",
    "            CASE\n",
    "                WHEN try_cast(details AS JSON) IS NOT NULL AND json_extract(details, '$.brand') IS NOT NULL\n",
    "                THEN json_extract(details, '$.brand')::STRING\n",
    "                ELSE 'Unknown'\n",
    "            END AS brand\n",
    "        FROM '{meta_path}';\n",
    "    \"\"\")\n",
    "\n",
    "    # No deduplication\n",
    "    con.execute(f\"\"\"\n",
    "        CREATE OR REPLACE TABLE cleaned AS\n",
    "        SELECT\n",
    "            r.user_id,\n",
    "            r.asin,\n",
    "            r.parent_asin,\n",
    "            r.rating,\n",
    "            r.text,\n",
    "            r.verified_purchase,\n",
    "            r.helpful_vote,\n",
    "            array_length(string_split(r.text, ' ')) AS review_length,\n",
    "             strftime(\n",
    "                    CASE \n",
    "                        WHEN typeof(r.timestamp) = 'VARCHAR' THEN CAST(r.timestamp AS TIMESTAMP)\n",
    "                        ELSE to_timestamp(CAST(r.timestamp AS DOUBLE) / 1000.0)\n",
    "                    END,\n",
    "                    '%Y'\n",
    "                )::INTEGER AS year,\n",
    "            m.brand,\n",
    "            m.main_category,\n",
    "            m.title,\n",
    "            m.average_rating,\n",
    "            m.rating_number,\n",
    "            m.price,\n",
    "            '{category}' AS category\n",
    "        FROM review r\n",
    "        LEFT JOIN meta m ON r.parent_asin = m.parent_asin\n",
    "        WHERE r.rating BETWEEN 1 AND 5 AND r.text IS NOT NULL;\n",
    "    \"\"\")\n",
    "\n",
    "    con.execute(f\"COPY cleaned TO '{output_path}' (FORMAT PARQUET);\")\n",
    "    con.close()\n",
    "    print(f\"Saved merged and cleaned data → {output_path}\")"
   ]
  },
  {
   "cell_type": "code",
   "execution_count": 9,
   "id": "9c740351",
   "metadata": {},
   "outputs": [],
   "source": [
    "import os\n",
    "import glob\n",
    "import duckdb\n",
    "\n",
    "def deduplicate_large_parquet_chunked(con, input_path, dedup_columns, order_column='year', chunk_size=250_000):\n",
    "    print(f\"🧠 Using chunked deduplication for large file: {os.path.basename(input_path)}\")\n",
    "\n",
    "    con.execute(\"DROP TABLE IF EXISTS temp_all;\")\n",
    "    con.execute(f\"\"\"\n",
    "        CREATE TABLE temp_all AS\n",
    "        SELECT * FROM read_parquet('{input_path}', union_by_name=true)\n",
    "        LIMIT 0;\n",
    "    \"\"\")\n",
    "\n",
    "    offset = 0\n",
    "    while True:\n",
    "        chunk_df = con.execute(f\"\"\"\n",
    "            SELECT * FROM read_parquet('{input_path}', union_by_name=true)\n",
    "            LIMIT {chunk_size} OFFSET {offset}\n",
    "        \"\"\").fetchdf()\n",
    "\n",
    "        if chunk_df.empty:\n",
    "            break\n",
    "\n",
    "        con.register(\"chunk\", chunk_df)\n",
    "        con.execute(\"INSERT INTO temp_all SELECT * FROM chunk\")\n",
    "        print(f\"✅ Chunk {offset // chunk_size + 1} inserted ({len(chunk_df)} rows)\")\n",
    "        offset += chunk_size\n",
    "\n",
    "    dedup_key = ', '.join(dedup_columns)\n",
    "    con.execute(\"DROP TABLE IF EXISTS deduplicated;\")\n",
    "    con.execute(f\"\"\"\n",
    "        CREATE TABLE deduplicated AS\n",
    "        SELECT * EXCLUDE(row_num)\n",
    "        FROM (\n",
    "            SELECT *,\n",
    "                ROW_NUMBER() OVER (\n",
    "                    PARTITION BY {dedup_key}\n",
    "                    ORDER BY {order_column}\n",
    "                ) AS row_num\n",
    "            FROM temp_all\n",
    "        )\n",
    "        WHERE row_num = 1;\n",
    "    \"\"\")"
   ]
  },
  {
   "cell_type": "code",
   "execution_count": 6,
   "id": "52c92d71",
   "metadata": {},
   "outputs": [],
   "source": [
    "def deduplicate_folder_merged_files(input_dir, output_dir, dedup_columns, order_column='year', chunk_threshold_gb=2.0):\n",
    "    os.makedirs(output_dir, exist_ok=True)\n",
    "    all_parquets = glob.glob(os.path.join(input_dir, \"*_merged.parquet\"))\n",
    "\n",
    "    print(f\"📁 Found {len(all_parquets)} '_merged' files to deduplicate...\\n\")\n",
    "\n",
    "    for input_path in all_parquets:\n",
    "        filename = os.path.basename(input_path)\n",
    "        name_wo_ext = filename.replace(\"_merged.parquet\", \"\")\n",
    "        output_path = os.path.join(output_dir, f\"{name_wo_ext}_deduped.parquet\")\n",
    "\n",
    "        if os.path.exists(output_path):\n",
    "            print(f\"⏩ Skipping (already deduplicated): {filename}\")\n",
    "            continue\n",
    "\n",
    "        file_size_gb = os.path.getsize(input_path) / (1024 ** 3)\n",
    "        con = duckdb.connect()\n",
    "\n",
    "        try:\n",
    "            if file_size_gb >= chunk_threshold_gb:\n",
    "                deduplicate_large_parquet_chunked(\n",
    "                    con,\n",
    "                    input_path,\n",
    "                    dedup_columns=dedup_columns,\n",
    "                    order_column=order_column,\n",
    "                    chunk_size=250_000\n",
    "                )\n",
    "            else:\n",
    "                print(f\"🧼 Deduplicating: {filename} (size: {file_size_gb:.2f} GB)\")\n",
    "                dedup_key = ', '.join(dedup_columns)\n",
    "\n",
    "                con.execute(\"DROP TABLE IF EXISTS deduplicated;\")\n",
    "                con.execute(f\"\"\"\n",
    "                    CREATE TABLE deduplicated AS\n",
    "                    SELECT * EXCLUDE(row_num)\n",
    "                    FROM (\n",
    "                        SELECT *,\n",
    "                            ROW_NUMBER() OVER (\n",
    "                                PARTITION BY {dedup_key}\n",
    "                                ORDER BY {order_column}\n",
    "                            ) AS row_num\n",
    "                        FROM read_parquet('{input_path}', union_by_name=true)\n",
    "                    )\n",
    "                    WHERE row_num = 1;\n",
    "                \"\"\")\n",
    "\n",
    "            con.execute(f\"COPY deduplicated TO '{output_path}' (FORMAT PARQUET);\")\n",
    "            print(f\"✅ Deduplicated and saved to: {output_path}\\n\")\n",
    "\n",
    "        except Exception as e:\n",
    "            print(f\"❌ Error with {filename}: {e}\\n\")\n",
    "        finally:\n",
    "            con.close()\n",
    "\n",
    "    print(\"🏁 All deduplication complete.\")"
   ]
  },
  {
   "cell_type": "code",
   "execution_count": 10,
   "id": "f04b60c0",
   "metadata": {},
   "outputs": [
    {
     "name": "stdout",
     "output_type": "stream",
     "text": [
      "📁 Found 1 '_merged' files to deduplicate...\n",
      "\n",
      "🧠 Using chunked deduplication for large file: Beauty_and_Personal_Care_merged.parquet\n",
      "✅ Chunk 1 inserted (250000 rows)\n",
      "✅ Chunk 2 inserted (250000 rows)\n",
      "✅ Chunk 3 inserted (250000 rows)\n"
     ]
    },
    {
     "data": {
      "application/vnd.jupyter.widget-view+json": {
       "model_id": "aada7b5188ce4a8696b5849f1a30d620",
       "version_major": 2,
       "version_minor": 0
      },
      "text/plain": [
       "FloatProgress(value=0.0, layout=Layout(width='auto'), style=ProgressStyle(bar_color='black'))"
      ]
     },
     "metadata": {},
     "output_type": "display_data"
    },
    {
     "name": "stdout",
     "output_type": "stream",
     "text": [
      "✅ Chunk 4 inserted (250000 rows)\n"
     ]
    },
    {
     "data": {
      "application/vnd.jupyter.widget-view+json": {
       "model_id": "5e0cc3b49f57474d94ac4dac9fa82a63",
       "version_major": 2,
       "version_minor": 0
      },
      "text/plain": [
       "FloatProgress(value=0.0, layout=Layout(width='auto'), style=ProgressStyle(bar_color='black'))"
      ]
     },
     "metadata": {},
     "output_type": "display_data"
    },
    {
     "name": "stdout",
     "output_type": "stream",
     "text": [
      "✅ Chunk 5 inserted (250000 rows)\n"
     ]
    },
    {
     "data": {
      "application/vnd.jupyter.widget-view+json": {
       "model_id": "17714ceaf51a4f088be3750e68fe597f",
       "version_major": 2,
       "version_minor": 0
      },
      "text/plain": [
       "FloatProgress(value=0.0, layout=Layout(width='auto'), style=ProgressStyle(bar_color='black'))"
      ]
     },
     "metadata": {},
     "output_type": "display_data"
    },
    {
     "name": "stdout",
     "output_type": "stream",
     "text": [
      "✅ Chunk 6 inserted (250000 rows)\n"
     ]
    },
    {
     "data": {
      "application/vnd.jupyter.widget-view+json": {
       "model_id": "2e7eed0cf4e64a988405728ebfe3e65a",
       "version_major": 2,
       "version_minor": 0
      },
      "text/plain": [
       "FloatProgress(value=0.0, layout=Layout(width='auto'), style=ProgressStyle(bar_color='black'))"
      ]
     },
     "metadata": {},
     "output_type": "display_data"
    },
    {
     "name": "stdout",
     "output_type": "stream",
     "text": [
      "✅ Chunk 7 inserted (250000 rows)\n"
     ]
    },
    {
     "data": {
      "application/vnd.jupyter.widget-view+json": {
       "model_id": "7df9a66486ef49bcb8dce963824866d2",
       "version_major": 2,
       "version_minor": 0
      },
      "text/plain": [
       "FloatProgress(value=0.0, layout=Layout(width='auto'), style=ProgressStyle(bar_color='black'))"
      ]
     },
     "metadata": {},
     "output_type": "display_data"
    },
    {
     "name": "stdout",
     "output_type": "stream",
     "text": [
      "✅ Chunk 8 inserted (250000 rows)\n"
     ]
    },
    {
     "data": {
      "application/vnd.jupyter.widget-view+json": {
       "model_id": "bc834a6598b54ef39218ac66d4fb82ec",
       "version_major": 2,
       "version_minor": 0
      },
      "text/plain": [
       "FloatProgress(value=0.0, layout=Layout(width='auto'), style=ProgressStyle(bar_color='black'))"
      ]
     },
     "metadata": {},
     "output_type": "display_data"
    },
    {
     "name": "stdout",
     "output_type": "stream",
     "text": [
      "✅ Chunk 9 inserted (250000 rows)\n"
     ]
    },
    {
     "data": {
      "application/vnd.jupyter.widget-view+json": {
       "model_id": "8351af1b3c66470e90d63a84b8ab0200",
       "version_major": 2,
       "version_minor": 0
      },
      "text/plain": [
       "FloatProgress(value=0.0, layout=Layout(width='auto'), style=ProgressStyle(bar_color='black'))"
      ]
     },
     "metadata": {},
     "output_type": "display_data"
    },
    {
     "name": "stdout",
     "output_type": "stream",
     "text": [
      "✅ Chunk 10 inserted (250000 rows)\n"
     ]
    },
    {
     "data": {
      "application/vnd.jupyter.widget-view+json": {
       "model_id": "6441ae5daaf54585a06416ef228a96f9",
       "version_major": 2,
       "version_minor": 0
      },
      "text/plain": [
       "FloatProgress(value=0.0, layout=Layout(width='auto'), style=ProgressStyle(bar_color='black'))"
      ]
     },
     "metadata": {},
     "output_type": "display_data"
    },
    {
     "name": "stdout",
     "output_type": "stream",
     "text": [
      "✅ Chunk 11 inserted (250000 rows)\n"
     ]
    },
    {
     "data": {
      "application/vnd.jupyter.widget-view+json": {
       "model_id": "ef10bb8600024fa1ad8a44577a95db74",
       "version_major": 2,
       "version_minor": 0
      },
      "text/plain": [
       "FloatProgress(value=0.0, layout=Layout(width='auto'), style=ProgressStyle(bar_color='black'))"
      ]
     },
     "metadata": {},
     "output_type": "display_data"
    },
    {
     "name": "stdout",
     "output_type": "stream",
     "text": [
      "✅ Chunk 12 inserted (250000 rows)\n"
     ]
    },
    {
     "data": {
      "application/vnd.jupyter.widget-view+json": {
       "model_id": "0e5810a4c23440389dcd2412b5e35aa4",
       "version_major": 2,
       "version_minor": 0
      },
      "text/plain": [
       "FloatProgress(value=0.0, layout=Layout(width='auto'), style=ProgressStyle(bar_color='black'))"
      ]
     },
     "metadata": {},
     "output_type": "display_data"
    },
    {
     "name": "stdout",
     "output_type": "stream",
     "text": [
      "✅ Chunk 13 inserted (250000 rows)\n"
     ]
    },
    {
     "data": {
      "application/vnd.jupyter.widget-view+json": {
       "model_id": "e0cba77cc10f49c79c6b3422eaffced8",
       "version_major": 2,
       "version_minor": 0
      },
      "text/plain": [
       "FloatProgress(value=0.0, layout=Layout(width='auto'), style=ProgressStyle(bar_color='black'))"
      ]
     },
     "metadata": {},
     "output_type": "display_data"
    },
    {
     "name": "stdout",
     "output_type": "stream",
     "text": [
      "✅ Chunk 14 inserted (250000 rows)\n"
     ]
    },
    {
     "data": {
      "application/vnd.jupyter.widget-view+json": {
       "model_id": "22fc5639b6244aab8109856ee836a71e",
       "version_major": 2,
       "version_minor": 0
      },
      "text/plain": [
       "FloatProgress(value=0.0, layout=Layout(width='auto'), style=ProgressStyle(bar_color='black'))"
      ]
     },
     "metadata": {},
     "output_type": "display_data"
    },
    {
     "name": "stdout",
     "output_type": "stream",
     "text": [
      "✅ Chunk 15 inserted (250000 rows)\n"
     ]
    },
    {
     "data": {
      "application/vnd.jupyter.widget-view+json": {
       "model_id": "e78a2b9f292447988f3967bc9b4e0fd1",
       "version_major": 2,
       "version_minor": 0
      },
      "text/plain": [
       "FloatProgress(value=0.0, layout=Layout(width='auto'), style=ProgressStyle(bar_color='black'))"
      ]
     },
     "metadata": {},
     "output_type": "display_data"
    },
    {
     "name": "stdout",
     "output_type": "stream",
     "text": [
      "✅ Chunk 16 inserted (250000 rows)\n"
     ]
    },
    {
     "data": {
      "application/vnd.jupyter.widget-view+json": {
       "model_id": "e6ebf4b18c484037b0b7326a33c9d775",
       "version_major": 2,
       "version_minor": 0
      },
      "text/plain": [
       "FloatProgress(value=0.0, layout=Layout(width='auto'), style=ProgressStyle(bar_color='black'))"
      ]
     },
     "metadata": {},
     "output_type": "display_data"
    },
    {
     "name": "stdout",
     "output_type": "stream",
     "text": [
      "✅ Chunk 17 inserted (250000 rows)\n"
     ]
    },
    {
     "data": {
      "application/vnd.jupyter.widget-view+json": {
       "model_id": "70cd2c482e884348afd4a2151aa61935",
       "version_major": 2,
       "version_minor": 0
      },
      "text/plain": [
       "FloatProgress(value=0.0, layout=Layout(width='auto'), style=ProgressStyle(bar_color='black'))"
      ]
     },
     "metadata": {},
     "output_type": "display_data"
    },
    {
     "name": "stdout",
     "output_type": "stream",
     "text": [
      "✅ Chunk 18 inserted (250000 rows)\n"
     ]
    },
    {
     "data": {
      "application/vnd.jupyter.widget-view+json": {
       "model_id": "0b63ad1381b049d6972f38c6ff2f43e4",
       "version_major": 2,
       "version_minor": 0
      },
      "text/plain": [
       "FloatProgress(value=0.0, layout=Layout(width='auto'), style=ProgressStyle(bar_color='black'))"
      ]
     },
     "metadata": {},
     "output_type": "display_data"
    },
    {
     "name": "stdout",
     "output_type": "stream",
     "text": [
      "✅ Chunk 19 inserted (250000 rows)\n"
     ]
    },
    {
     "data": {
      "application/vnd.jupyter.widget-view+json": {
       "model_id": "a1af9b83a6254cac8dbc9eedd90d402f",
       "version_major": 2,
       "version_minor": 0
      },
      "text/plain": [
       "FloatProgress(value=0.0, layout=Layout(width='auto'), style=ProgressStyle(bar_color='black'))"
      ]
     },
     "metadata": {},
     "output_type": "display_data"
    },
    {
     "name": "stdout",
     "output_type": "stream",
     "text": [
      "✅ Chunk 20 inserted (250000 rows)\n"
     ]
    },
    {
     "data": {
      "application/vnd.jupyter.widget-view+json": {
       "model_id": "74a5e33e7c9d44b8b830501bbb5d8622",
       "version_major": 2,
       "version_minor": 0
      },
      "text/plain": [
       "FloatProgress(value=0.0, layout=Layout(width='auto'), style=ProgressStyle(bar_color='black'))"
      ]
     },
     "metadata": {},
     "output_type": "display_data"
    },
    {
     "name": "stdout",
     "output_type": "stream",
     "text": [
      "✅ Chunk 21 inserted (250000 rows)\n"
     ]
    },
    {
     "data": {
      "application/vnd.jupyter.widget-view+json": {
       "model_id": "c357830284cd4cfcbad6e6166329484e",
       "version_major": 2,
       "version_minor": 0
      },
      "text/plain": [
       "FloatProgress(value=0.0, layout=Layout(width='auto'), style=ProgressStyle(bar_color='black'))"
      ]
     },
     "metadata": {},
     "output_type": "display_data"
    },
    {
     "name": "stdout",
     "output_type": "stream",
     "text": [
      "✅ Chunk 22 inserted (250000 rows)\n"
     ]
    },
    {
     "data": {
      "application/vnd.jupyter.widget-view+json": {
       "model_id": "378e523c12b54b30bf0156c8c0d60c77",
       "version_major": 2,
       "version_minor": 0
      },
      "text/plain": [
       "FloatProgress(value=0.0, layout=Layout(width='auto'), style=ProgressStyle(bar_color='black'))"
      ]
     },
     "metadata": {},
     "output_type": "display_data"
    },
    {
     "name": "stdout",
     "output_type": "stream",
     "text": [
      "✅ Chunk 23 inserted (250000 rows)\n"
     ]
    },
    {
     "data": {
      "application/vnd.jupyter.widget-view+json": {
       "model_id": "2b79e12dc86c4fa483a720b838343d3e",
       "version_major": 2,
       "version_minor": 0
      },
      "text/plain": [
       "FloatProgress(value=0.0, layout=Layout(width='auto'), style=ProgressStyle(bar_color='black'))"
      ]
     },
     "metadata": {},
     "output_type": "display_data"
    },
    {
     "name": "stdout",
     "output_type": "stream",
     "text": [
      "✅ Chunk 24 inserted (250000 rows)\n"
     ]
    },
    {
     "data": {
      "application/vnd.jupyter.widget-view+json": {
       "model_id": "43a65d8b95d04a629d5ccbd7c4a4ecee",
       "version_major": 2,
       "version_minor": 0
      },
      "text/plain": [
       "FloatProgress(value=0.0, layout=Layout(width='auto'), style=ProgressStyle(bar_color='black'))"
      ]
     },
     "metadata": {},
     "output_type": "display_data"
    },
    {
     "name": "stdout",
     "output_type": "stream",
     "text": [
      "✅ Chunk 25 inserted (250000 rows)\n"
     ]
    },
    {
     "data": {
      "application/vnd.jupyter.widget-view+json": {
       "model_id": "32a6221e3ed84eec9fb0e7929d693646",
       "version_major": 2,
       "version_minor": 0
      },
      "text/plain": [
       "FloatProgress(value=0.0, layout=Layout(width='auto'), style=ProgressStyle(bar_color='black'))"
      ]
     },
     "metadata": {},
     "output_type": "display_data"
    },
    {
     "name": "stdout",
     "output_type": "stream",
     "text": [
      "✅ Chunk 26 inserted (250000 rows)\n"
     ]
    },
    {
     "data": {
      "application/vnd.jupyter.widget-view+json": {
       "model_id": "807ef98249274a4eae116eac47a385cc",
       "version_major": 2,
       "version_minor": 0
      },
      "text/plain": [
       "FloatProgress(value=0.0, layout=Layout(width='auto'), style=ProgressStyle(bar_color='black'))"
      ]
     },
     "metadata": {},
     "output_type": "display_data"
    },
    {
     "name": "stdout",
     "output_type": "stream",
     "text": [
      "✅ Chunk 27 inserted (250000 rows)\n"
     ]
    },
    {
     "data": {
      "application/vnd.jupyter.widget-view+json": {
       "model_id": "15b7b3ca84b54dc089b2fe76698cf4c2",
       "version_major": 2,
       "version_minor": 0
      },
      "text/plain": [
       "FloatProgress(value=0.0, layout=Layout(width='auto'), style=ProgressStyle(bar_color='black'))"
      ]
     },
     "metadata": {},
     "output_type": "display_data"
    },
    {
     "name": "stdout",
     "output_type": "stream",
     "text": [
      "✅ Chunk 28 inserted (250000 rows)\n"
     ]
    },
    {
     "data": {
      "application/vnd.jupyter.widget-view+json": {
       "model_id": "0a707764ce6c415887a65aeebb3932a3",
       "version_major": 2,
       "version_minor": 0
      },
      "text/plain": [
       "FloatProgress(value=0.0, layout=Layout(width='auto'), style=ProgressStyle(bar_color='black'))"
      ]
     },
     "metadata": {},
     "output_type": "display_data"
    },
    {
     "name": "stdout",
     "output_type": "stream",
     "text": [
      "✅ Chunk 29 inserted (250000 rows)\n"
     ]
    },
    {
     "data": {
      "application/vnd.jupyter.widget-view+json": {
       "model_id": "182b0de3dcea4462a684a96b1fb5aba3",
       "version_major": 2,
       "version_minor": 0
      },
      "text/plain": [
       "FloatProgress(value=0.0, layout=Layout(width='auto'), style=ProgressStyle(bar_color='black'))"
      ]
     },
     "metadata": {},
     "output_type": "display_data"
    },
    {
     "name": "stdout",
     "output_type": "stream",
     "text": [
      "✅ Chunk 30 inserted (250000 rows)\n"
     ]
    },
    {
     "data": {
      "application/vnd.jupyter.widget-view+json": {
       "model_id": "401e28f48f43420cb290df179977a2ab",
       "version_major": 2,
       "version_minor": 0
      },
      "text/plain": [
       "FloatProgress(value=0.0, layout=Layout(width='auto'), style=ProgressStyle(bar_color='black'))"
      ]
     },
     "metadata": {},
     "output_type": "display_data"
    },
    {
     "name": "stdout",
     "output_type": "stream",
     "text": [
      "✅ Chunk 31 inserted (250000 rows)\n"
     ]
    },
    {
     "data": {
      "application/vnd.jupyter.widget-view+json": {
       "model_id": "1d27e8162e4348ecb43dafee23f98d72",
       "version_major": 2,
       "version_minor": 0
      },
      "text/plain": [
       "FloatProgress(value=0.0, layout=Layout(width='auto'), style=ProgressStyle(bar_color='black'))"
      ]
     },
     "metadata": {},
     "output_type": "display_data"
    },
    {
     "name": "stdout",
     "output_type": "stream",
     "text": [
      "✅ Chunk 32 inserted (250000 rows)\n"
     ]
    },
    {
     "data": {
      "application/vnd.jupyter.widget-view+json": {
       "model_id": "4741683355ed4bfa8be269e47e9418d0",
       "version_major": 2,
       "version_minor": 0
      },
      "text/plain": [
       "FloatProgress(value=0.0, layout=Layout(width='auto'), style=ProgressStyle(bar_color='black'))"
      ]
     },
     "metadata": {},
     "output_type": "display_data"
    },
    {
     "name": "stdout",
     "output_type": "stream",
     "text": [
      "✅ Chunk 33 inserted (250000 rows)\n"
     ]
    },
    {
     "data": {
      "application/vnd.jupyter.widget-view+json": {
       "model_id": "09aef863cc784fdda8e51fdd46ea340a",
       "version_major": 2,
       "version_minor": 0
      },
      "text/plain": [
       "FloatProgress(value=0.0, layout=Layout(width='auto'), style=ProgressStyle(bar_color='black'))"
      ]
     },
     "metadata": {},
     "output_type": "display_data"
    },
    {
     "name": "stdout",
     "output_type": "stream",
     "text": [
      "✅ Chunk 34 inserted (250000 rows)\n"
     ]
    },
    {
     "data": {
      "application/vnd.jupyter.widget-view+json": {
       "model_id": "40e7d5e26638418b8479ad64ac195920",
       "version_major": 2,
       "version_minor": 0
      },
      "text/plain": [
       "FloatProgress(value=0.0, layout=Layout(width='auto'), style=ProgressStyle(bar_color='black'))"
      ]
     },
     "metadata": {},
     "output_type": "display_data"
    },
    {
     "name": "stdout",
     "output_type": "stream",
     "text": [
      "✅ Chunk 35 inserted (250000 rows)\n"
     ]
    },
    {
     "data": {
      "application/vnd.jupyter.widget-view+json": {
       "model_id": "d659ab4d95d043d18a3891465fa9ed94",
       "version_major": 2,
       "version_minor": 0
      },
      "text/plain": [
       "FloatProgress(value=0.0, layout=Layout(width='auto'), style=ProgressStyle(bar_color='black'))"
      ]
     },
     "metadata": {},
     "output_type": "display_data"
    },
    {
     "name": "stdout",
     "output_type": "stream",
     "text": [
      "✅ Chunk 36 inserted (250000 rows)\n"
     ]
    },
    {
     "data": {
      "application/vnd.jupyter.widget-view+json": {
       "model_id": "494f14fbdec84b498feff396a933bb13",
       "version_major": 2,
       "version_minor": 0
      },
      "text/plain": [
       "FloatProgress(value=0.0, layout=Layout(width='auto'), style=ProgressStyle(bar_color='black'))"
      ]
     },
     "metadata": {},
     "output_type": "display_data"
    },
    {
     "name": "stdout",
     "output_type": "stream",
     "text": [
      "✅ Chunk 37 inserted (250000 rows)\n"
     ]
    },
    {
     "data": {
      "application/vnd.jupyter.widget-view+json": {
       "model_id": "5d20282ab1094832bd5c6288b214da3b",
       "version_major": 2,
       "version_minor": 0
      },
      "text/plain": [
       "FloatProgress(value=0.0, layout=Layout(width='auto'), style=ProgressStyle(bar_color='black'))"
      ]
     },
     "metadata": {},
     "output_type": "display_data"
    },
    {
     "name": "stdout",
     "output_type": "stream",
     "text": [
      "✅ Chunk 38 inserted (250000 rows)\n"
     ]
    },
    {
     "data": {
      "application/vnd.jupyter.widget-view+json": {
       "model_id": "9d2e8e1aedf242be81a80fda19343608",
       "version_major": 2,
       "version_minor": 0
      },
      "text/plain": [
       "FloatProgress(value=0.0, layout=Layout(width='auto'), style=ProgressStyle(bar_color='black'))"
      ]
     },
     "metadata": {},
     "output_type": "display_data"
    },
    {
     "name": "stdout",
     "output_type": "stream",
     "text": [
      "✅ Chunk 39 inserted (250000 rows)\n"
     ]
    },
    {
     "data": {
      "application/vnd.jupyter.widget-view+json": {
       "model_id": "4c267ec6082c434a91368261141aecd3",
       "version_major": 2,
       "version_minor": 0
      },
      "text/plain": [
       "FloatProgress(value=0.0, layout=Layout(width='auto'), style=ProgressStyle(bar_color='black'))"
      ]
     },
     "metadata": {},
     "output_type": "display_data"
    },
    {
     "name": "stdout",
     "output_type": "stream",
     "text": [
      "✅ Chunk 40 inserted (250000 rows)\n"
     ]
    },
    {
     "data": {
      "application/vnd.jupyter.widget-view+json": {
       "model_id": "69c9869a9da34596b23911e9d86b0dd9",
       "version_major": 2,
       "version_minor": 0
      },
      "text/plain": [
       "FloatProgress(value=0.0, layout=Layout(width='auto'), style=ProgressStyle(bar_color='black'))"
      ]
     },
     "metadata": {},
     "output_type": "display_data"
    },
    {
     "name": "stdout",
     "output_type": "stream",
     "text": [
      "✅ Chunk 41 inserted (250000 rows)\n"
     ]
    },
    {
     "data": {
      "application/vnd.jupyter.widget-view+json": {
       "model_id": "be47489cabec43268c6c82901e736041",
       "version_major": 2,
       "version_minor": 0
      },
      "text/plain": [
       "FloatProgress(value=0.0, layout=Layout(width='auto'), style=ProgressStyle(bar_color='black'))"
      ]
     },
     "metadata": {},
     "output_type": "display_data"
    },
    {
     "name": "stdout",
     "output_type": "stream",
     "text": [
      "✅ Chunk 42 inserted (250000 rows)\n"
     ]
    },
    {
     "data": {
      "application/vnd.jupyter.widget-view+json": {
       "model_id": "dfb6e1991f364e52ba4060fd4741112d",
       "version_major": 2,
       "version_minor": 0
      },
      "text/plain": [
       "FloatProgress(value=0.0, layout=Layout(width='auto'), style=ProgressStyle(bar_color='black'))"
      ]
     },
     "metadata": {},
     "output_type": "display_data"
    },
    {
     "name": "stdout",
     "output_type": "stream",
     "text": [
      "✅ Chunk 43 inserted (250000 rows)\n"
     ]
    },
    {
     "data": {
      "application/vnd.jupyter.widget-view+json": {
       "model_id": "226680cd97e44cf1997fa4f2a387b1cb",
       "version_major": 2,
       "version_minor": 0
      },
      "text/plain": [
       "FloatProgress(value=0.0, layout=Layout(width='auto'), style=ProgressStyle(bar_color='black'))"
      ]
     },
     "metadata": {},
     "output_type": "display_data"
    },
    {
     "name": "stdout",
     "output_type": "stream",
     "text": [
      "✅ Chunk 44 inserted (250000 rows)\n"
     ]
    },
    {
     "data": {
      "application/vnd.jupyter.widget-view+json": {
       "model_id": "b5ac68a3b74b4ecf86f09b92fdcdc48a",
       "version_major": 2,
       "version_minor": 0
      },
      "text/plain": [
       "FloatProgress(value=0.0, layout=Layout(width='auto'), style=ProgressStyle(bar_color='black'))"
      ]
     },
     "metadata": {},
     "output_type": "display_data"
    },
    {
     "name": "stdout",
     "output_type": "stream",
     "text": [
      "✅ Chunk 45 inserted (250000 rows)\n"
     ]
    },
    {
     "data": {
      "application/vnd.jupyter.widget-view+json": {
       "model_id": "a004a950557b42018fd4b054856f4b0a",
       "version_major": 2,
       "version_minor": 0
      },
      "text/plain": [
       "FloatProgress(value=0.0, layout=Layout(width='auto'), style=ProgressStyle(bar_color='black'))"
      ]
     },
     "metadata": {},
     "output_type": "display_data"
    },
    {
     "name": "stdout",
     "output_type": "stream",
     "text": [
      "✅ Chunk 46 inserted (250000 rows)\n"
     ]
    },
    {
     "data": {
      "application/vnd.jupyter.widget-view+json": {
       "model_id": "2a7ad2bfce0c43dba08fc6736cdbff9d",
       "version_major": 2,
       "version_minor": 0
      },
      "text/plain": [
       "FloatProgress(value=0.0, layout=Layout(width='auto'), style=ProgressStyle(bar_color='black'))"
      ]
     },
     "metadata": {},
     "output_type": "display_data"
    },
    {
     "name": "stdout",
     "output_type": "stream",
     "text": [
      "✅ Chunk 47 inserted (250000 rows)\n"
     ]
    },
    {
     "data": {
      "application/vnd.jupyter.widget-view+json": {
       "model_id": "79611a07a0ae449398c9e616e92a7adf",
       "version_major": 2,
       "version_minor": 0
      },
      "text/plain": [
       "FloatProgress(value=0.0, layout=Layout(width='auto'), style=ProgressStyle(bar_color='black'))"
      ]
     },
     "metadata": {},
     "output_type": "display_data"
    },
    {
     "name": "stdout",
     "output_type": "stream",
     "text": [
      "✅ Chunk 48 inserted (250000 rows)\n"
     ]
    },
    {
     "data": {
      "application/vnd.jupyter.widget-view+json": {
       "model_id": "a40cea3f59e24670b9ce8968ee8c6ff8",
       "version_major": 2,
       "version_minor": 0
      },
      "text/plain": [
       "FloatProgress(value=0.0, layout=Layout(width='auto'), style=ProgressStyle(bar_color='black'))"
      ]
     },
     "metadata": {},
     "output_type": "display_data"
    },
    {
     "name": "stdout",
     "output_type": "stream",
     "text": [
      "✅ Chunk 49 inserted (250000 rows)\n"
     ]
    },
    {
     "data": {
      "application/vnd.jupyter.widget-view+json": {
       "model_id": "1380691bce284867a741cab0a18c4bab",
       "version_major": 2,
       "version_minor": 0
      },
      "text/plain": [
       "FloatProgress(value=0.0, layout=Layout(width='auto'), style=ProgressStyle(bar_color='black'))"
      ]
     },
     "metadata": {},
     "output_type": "display_data"
    },
    {
     "name": "stdout",
     "output_type": "stream",
     "text": [
      "✅ Chunk 50 inserted (250000 rows)\n"
     ]
    },
    {
     "data": {
      "application/vnd.jupyter.widget-view+json": {
       "model_id": "93f3400923cb46aba56c3f54a25df91a",
       "version_major": 2,
       "version_minor": 0
      },
      "text/plain": [
       "FloatProgress(value=0.0, layout=Layout(width='auto'), style=ProgressStyle(bar_color='black'))"
      ]
     },
     "metadata": {},
     "output_type": "display_data"
    },
    {
     "name": "stdout",
     "output_type": "stream",
     "text": [
      "✅ Chunk 51 inserted (250000 rows)\n"
     ]
    },
    {
     "data": {
      "application/vnd.jupyter.widget-view+json": {
       "model_id": "1cdbc2cda3c34b20871e3aec62f144f1",
       "version_major": 2,
       "version_minor": 0
      },
      "text/plain": [
       "FloatProgress(value=0.0, layout=Layout(width='auto'), style=ProgressStyle(bar_color='black'))"
      ]
     },
     "metadata": {},
     "output_type": "display_data"
    },
    {
     "name": "stdout",
     "output_type": "stream",
     "text": [
      "✅ Chunk 52 inserted (250000 rows)\n"
     ]
    },
    {
     "data": {
      "application/vnd.jupyter.widget-view+json": {
       "model_id": "8408b45012764f178a9e121e6f39df1f",
       "version_major": 2,
       "version_minor": 0
      },
      "text/plain": [
       "FloatProgress(value=0.0, layout=Layout(width='auto'), style=ProgressStyle(bar_color='black'))"
      ]
     },
     "metadata": {},
     "output_type": "display_data"
    },
    {
     "name": "stdout",
     "output_type": "stream",
     "text": [
      "✅ Chunk 53 inserted (250000 rows)\n"
     ]
    },
    {
     "data": {
      "application/vnd.jupyter.widget-view+json": {
       "model_id": "3cc880e267874cd5baf3c74a91e6b07c",
       "version_major": 2,
       "version_minor": 0
      },
      "text/plain": [
       "FloatProgress(value=0.0, layout=Layout(width='auto'), style=ProgressStyle(bar_color='black'))"
      ]
     },
     "metadata": {},
     "output_type": "display_data"
    },
    {
     "name": "stdout",
     "output_type": "stream",
     "text": [
      "✅ Chunk 54 inserted (250000 rows)\n"
     ]
    },
    {
     "data": {
      "application/vnd.jupyter.widget-view+json": {
       "model_id": "d0ee144dd28043f7b389a51dcf1922e4",
       "version_major": 2,
       "version_minor": 0
      },
      "text/plain": [
       "FloatProgress(value=0.0, layout=Layout(width='auto'), style=ProgressStyle(bar_color='black'))"
      ]
     },
     "metadata": {},
     "output_type": "display_data"
    },
    {
     "name": "stdout",
     "output_type": "stream",
     "text": [
      "✅ Chunk 55 inserted (250000 rows)\n"
     ]
    },
    {
     "data": {
      "application/vnd.jupyter.widget-view+json": {
       "model_id": "a70937d5aaf146c3a9cdf68851f1db8e",
       "version_major": 2,
       "version_minor": 0
      },
      "text/plain": [
       "FloatProgress(value=0.0, layout=Layout(width='auto'), style=ProgressStyle(bar_color='black'))"
      ]
     },
     "metadata": {},
     "output_type": "display_data"
    },
    {
     "name": "stdout",
     "output_type": "stream",
     "text": [
      "✅ Chunk 56 inserted (250000 rows)\n"
     ]
    },
    {
     "data": {
      "application/vnd.jupyter.widget-view+json": {
       "model_id": "1e395a5896754578bb9b49a7110cf13b",
       "version_major": 2,
       "version_minor": 0
      },
      "text/plain": [
       "FloatProgress(value=0.0, layout=Layout(width='auto'), style=ProgressStyle(bar_color='black'))"
      ]
     },
     "metadata": {},
     "output_type": "display_data"
    },
    {
     "name": "stdout",
     "output_type": "stream",
     "text": [
      "✅ Chunk 57 inserted (250000 rows)\n"
     ]
    },
    {
     "data": {
      "application/vnd.jupyter.widget-view+json": {
       "model_id": "18f3279ad200487c9de566784c2cf318",
       "version_major": 2,
       "version_minor": 0
      },
      "text/plain": [
       "FloatProgress(value=0.0, layout=Layout(width='auto'), style=ProgressStyle(bar_color='black'))"
      ]
     },
     "metadata": {},
     "output_type": "display_data"
    },
    {
     "name": "stdout",
     "output_type": "stream",
     "text": [
      "✅ Chunk 58 inserted (250000 rows)\n"
     ]
    },
    {
     "data": {
      "application/vnd.jupyter.widget-view+json": {
       "model_id": "efba8e72a88b4fe18163c788a26ef1c7",
       "version_major": 2,
       "version_minor": 0
      },
      "text/plain": [
       "FloatProgress(value=0.0, layout=Layout(width='auto'), style=ProgressStyle(bar_color='black'))"
      ]
     },
     "metadata": {},
     "output_type": "display_data"
    },
    {
     "name": "stdout",
     "output_type": "stream",
     "text": [
      "✅ Chunk 59 inserted (250000 rows)\n"
     ]
    },
    {
     "data": {
      "application/vnd.jupyter.widget-view+json": {
       "model_id": "59de2e22d9d94dbe88f4c961778ef73e",
       "version_major": 2,
       "version_minor": 0
      },
      "text/plain": [
       "FloatProgress(value=0.0, layout=Layout(width='auto'), style=ProgressStyle(bar_color='black'))"
      ]
     },
     "metadata": {},
     "output_type": "display_data"
    },
    {
     "name": "stdout",
     "output_type": "stream",
     "text": [
      "✅ Chunk 60 inserted (250000 rows)\n"
     ]
    },
    {
     "data": {
      "application/vnd.jupyter.widget-view+json": {
       "model_id": "cbdab096487442a68c4d31929178b119",
       "version_major": 2,
       "version_minor": 0
      },
      "text/plain": [
       "FloatProgress(value=0.0, layout=Layout(width='auto'), style=ProgressStyle(bar_color='black'))"
      ]
     },
     "metadata": {},
     "output_type": "display_data"
    },
    {
     "name": "stdout",
     "output_type": "stream",
     "text": [
      "✅ Chunk 61 inserted (250000 rows)\n"
     ]
    },
    {
     "data": {
      "application/vnd.jupyter.widget-view+json": {
       "model_id": "a61a97efcc0043189b2d7ce997390fa7",
       "version_major": 2,
       "version_minor": 0
      },
      "text/plain": [
       "FloatProgress(value=0.0, layout=Layout(width='auto'), style=ProgressStyle(bar_color='black'))"
      ]
     },
     "metadata": {},
     "output_type": "display_data"
    },
    {
     "name": "stdout",
     "output_type": "stream",
     "text": [
      "✅ Chunk 62 inserted (250000 rows)\n"
     ]
    },
    {
     "data": {
      "application/vnd.jupyter.widget-view+json": {
       "model_id": "66fcbc6aa46e42a5b7716522f3a063fb",
       "version_major": 2,
       "version_minor": 0
      },
      "text/plain": [
       "FloatProgress(value=0.0, layout=Layout(width='auto'), style=ProgressStyle(bar_color='black'))"
      ]
     },
     "metadata": {},
     "output_type": "display_data"
    },
    {
     "name": "stdout",
     "output_type": "stream",
     "text": [
      "✅ Chunk 63 inserted (250000 rows)\n"
     ]
    },
    {
     "data": {
      "application/vnd.jupyter.widget-view+json": {
       "model_id": "e2f7d1ef5b054dccb08529fa7e433cdb",
       "version_major": 2,
       "version_minor": 0
      },
      "text/plain": [
       "FloatProgress(value=0.0, layout=Layout(width='auto'), style=ProgressStyle(bar_color='black'))"
      ]
     },
     "metadata": {},
     "output_type": "display_data"
    },
    {
     "name": "stdout",
     "output_type": "stream",
     "text": [
      "✅ Chunk 64 inserted (250000 rows)\n"
     ]
    },
    {
     "data": {
      "application/vnd.jupyter.widget-view+json": {
       "model_id": "d46446fe68ec44c48c59aa0116677ba1",
       "version_major": 2,
       "version_minor": 0
      },
      "text/plain": [
       "FloatProgress(value=0.0, layout=Layout(width='auto'), style=ProgressStyle(bar_color='black'))"
      ]
     },
     "metadata": {},
     "output_type": "display_data"
    },
    {
     "name": "stdout",
     "output_type": "stream",
     "text": [
      "✅ Chunk 65 inserted (250000 rows)\n"
     ]
    },
    {
     "data": {
      "application/vnd.jupyter.widget-view+json": {
       "model_id": "d32176f0ff5642f592de4433d54a8868",
       "version_major": 2,
       "version_minor": 0
      },
      "text/plain": [
       "FloatProgress(value=0.0, layout=Layout(width='auto'), style=ProgressStyle(bar_color='black'))"
      ]
     },
     "metadata": {},
     "output_type": "display_data"
    },
    {
     "name": "stdout",
     "output_type": "stream",
     "text": [
      "✅ Chunk 66 inserted (250000 rows)\n"
     ]
    },
    {
     "data": {
      "application/vnd.jupyter.widget-view+json": {
       "model_id": "8208857e296541f79ed6c14898e40c54",
       "version_major": 2,
       "version_minor": 0
      },
      "text/plain": [
       "FloatProgress(value=0.0, layout=Layout(width='auto'), style=ProgressStyle(bar_color='black'))"
      ]
     },
     "metadata": {},
     "output_type": "display_data"
    },
    {
     "name": "stdout",
     "output_type": "stream",
     "text": [
      "✅ Chunk 67 inserted (250000 rows)\n"
     ]
    },
    {
     "data": {
      "application/vnd.jupyter.widget-view+json": {
       "model_id": "7b175019b1a04adea3f09e6f092ca79d",
       "version_major": 2,
       "version_minor": 0
      },
      "text/plain": [
       "FloatProgress(value=0.0, layout=Layout(width='auto'), style=ProgressStyle(bar_color='black'))"
      ]
     },
     "metadata": {},
     "output_type": "display_data"
    },
    {
     "name": "stdout",
     "output_type": "stream",
     "text": [
      "✅ Chunk 68 inserted (250000 rows)\n"
     ]
    },
    {
     "data": {
      "application/vnd.jupyter.widget-view+json": {
       "model_id": "140bfa8cf5434ac3ab437c078163a9ca",
       "version_major": 2,
       "version_minor": 0
      },
      "text/plain": [
       "FloatProgress(value=0.0, layout=Layout(width='auto'), style=ProgressStyle(bar_color='black'))"
      ]
     },
     "metadata": {},
     "output_type": "display_data"
    },
    {
     "name": "stdout",
     "output_type": "stream",
     "text": [
      "✅ Chunk 69 inserted (250000 rows)\n"
     ]
    },
    {
     "data": {
      "application/vnd.jupyter.widget-view+json": {
       "model_id": "318c815467cd414fb1780bf560cde0db",
       "version_major": 2,
       "version_minor": 0
      },
      "text/plain": [
       "FloatProgress(value=0.0, layout=Layout(width='auto'), style=ProgressStyle(bar_color='black'))"
      ]
     },
     "metadata": {},
     "output_type": "display_data"
    },
    {
     "name": "stdout",
     "output_type": "stream",
     "text": [
      "✅ Chunk 70 inserted (250000 rows)\n"
     ]
    },
    {
     "data": {
      "application/vnd.jupyter.widget-view+json": {
       "model_id": "8ced5254103141039c292c79f6b26e6b",
       "version_major": 2,
       "version_minor": 0
      },
      "text/plain": [
       "FloatProgress(value=0.0, layout=Layout(width='auto'), style=ProgressStyle(bar_color='black'))"
      ]
     },
     "metadata": {},
     "output_type": "display_data"
    },
    {
     "name": "stdout",
     "output_type": "stream",
     "text": [
      "✅ Chunk 71 inserted (250000 rows)\n"
     ]
    },
    {
     "data": {
      "application/vnd.jupyter.widget-view+json": {
       "model_id": "571d45217c0342748d96fdb6c7e4d3c4",
       "version_major": 2,
       "version_minor": 0
      },
      "text/plain": [
       "FloatProgress(value=0.0, layout=Layout(width='auto'), style=ProgressStyle(bar_color='black'))"
      ]
     },
     "metadata": {},
     "output_type": "display_data"
    },
    {
     "name": "stdout",
     "output_type": "stream",
     "text": [
      "✅ Chunk 72 inserted (250000 rows)\n"
     ]
    },
    {
     "data": {
      "application/vnd.jupyter.widget-view+json": {
       "model_id": "b8febf6aa81d4618bab7c704deeb0da1",
       "version_major": 2,
       "version_minor": 0
      },
      "text/plain": [
       "FloatProgress(value=0.0, layout=Layout(width='auto'), style=ProgressStyle(bar_color='black'))"
      ]
     },
     "metadata": {},
     "output_type": "display_data"
    },
    {
     "name": "stdout",
     "output_type": "stream",
     "text": [
      "✅ Chunk 73 inserted (250000 rows)\n"
     ]
    },
    {
     "data": {
      "application/vnd.jupyter.widget-view+json": {
       "model_id": "1122cea0d90343b088d287f4de781213",
       "version_major": 2,
       "version_minor": 0
      },
      "text/plain": [
       "FloatProgress(value=0.0, layout=Layout(width='auto'), style=ProgressStyle(bar_color='black'))"
      ]
     },
     "metadata": {},
     "output_type": "display_data"
    },
    {
     "name": "stdout",
     "output_type": "stream",
     "text": [
      "✅ Chunk 74 inserted (250000 rows)\n"
     ]
    },
    {
     "data": {
      "application/vnd.jupyter.widget-view+json": {
       "model_id": "23ebb2a13c1d42b0a665f0a139c26a4c",
       "version_major": 2,
       "version_minor": 0
      },
      "text/plain": [
       "FloatProgress(value=0.0, layout=Layout(width='auto'), style=ProgressStyle(bar_color='black'))"
      ]
     },
     "metadata": {},
     "output_type": "display_data"
    },
    {
     "name": "stdout",
     "output_type": "stream",
     "text": [
      "✅ Chunk 75 inserted (250000 rows)\n"
     ]
    },
    {
     "data": {
      "application/vnd.jupyter.widget-view+json": {
       "model_id": "7f6be7c8b2574dc58b5a62dacb90bf55",
       "version_major": 2,
       "version_minor": 0
      },
      "text/plain": [
       "FloatProgress(value=0.0, layout=Layout(width='auto'), style=ProgressStyle(bar_color='black'))"
      ]
     },
     "metadata": {},
     "output_type": "display_data"
    },
    {
     "name": "stdout",
     "output_type": "stream",
     "text": [
      "✅ Chunk 76 inserted (250000 rows)\n"
     ]
    },
    {
     "data": {
      "application/vnd.jupyter.widget-view+json": {
       "model_id": "a1907d9fbf0e43c58ae8c635fec798ec",
       "version_major": 2,
       "version_minor": 0
      },
      "text/plain": [
       "FloatProgress(value=0.0, layout=Layout(width='auto'), style=ProgressStyle(bar_color='black'))"
      ]
     },
     "metadata": {},
     "output_type": "display_data"
    },
    {
     "name": "stdout",
     "output_type": "stream",
     "text": [
      "✅ Chunk 77 inserted (250000 rows)\n"
     ]
    },
    {
     "data": {
      "application/vnd.jupyter.widget-view+json": {
       "model_id": "9892429c3ce24e03b8356592e5b4e66e",
       "version_major": 2,
       "version_minor": 0
      },
      "text/plain": [
       "FloatProgress(value=0.0, layout=Layout(width='auto'), style=ProgressStyle(bar_color='black'))"
      ]
     },
     "metadata": {},
     "output_type": "display_data"
    },
    {
     "name": "stdout",
     "output_type": "stream",
     "text": [
      "✅ Chunk 78 inserted (250000 rows)\n"
     ]
    },
    {
     "data": {
      "application/vnd.jupyter.widget-view+json": {
       "model_id": "c4b648b3af23438abb3269c8c1916d29",
       "version_major": 2,
       "version_minor": 0
      },
      "text/plain": [
       "FloatProgress(value=0.0, layout=Layout(width='auto'), style=ProgressStyle(bar_color='black'))"
      ]
     },
     "metadata": {},
     "output_type": "display_data"
    },
    {
     "name": "stdout",
     "output_type": "stream",
     "text": [
      "✅ Chunk 79 inserted (250000 rows)\n"
     ]
    },
    {
     "data": {
      "application/vnd.jupyter.widget-view+json": {
       "model_id": "b9b64e89aa9245e1b865e5b3b4f4182e",
       "version_major": 2,
       "version_minor": 0
      },
      "text/plain": [
       "FloatProgress(value=0.0, layout=Layout(width='auto'), style=ProgressStyle(bar_color='black'))"
      ]
     },
     "metadata": {},
     "output_type": "display_data"
    },
    {
     "name": "stdout",
     "output_type": "stream",
     "text": [
      "✅ Chunk 80 inserted (250000 rows)\n"
     ]
    },
    {
     "data": {
      "application/vnd.jupyter.widget-view+json": {
       "model_id": "ba2690d069994638881fb00211f6f13e",
       "version_major": 2,
       "version_minor": 0
      },
      "text/plain": [
       "FloatProgress(value=0.0, layout=Layout(width='auto'), style=ProgressStyle(bar_color='black'))"
      ]
     },
     "metadata": {},
     "output_type": "display_data"
    },
    {
     "name": "stdout",
     "output_type": "stream",
     "text": [
      "✅ Chunk 81 inserted (250000 rows)\n"
     ]
    },
    {
     "data": {
      "application/vnd.jupyter.widget-view+json": {
       "model_id": "fe6ca6e8cb2f405c859eff28800e1965",
       "version_major": 2,
       "version_minor": 0
      },
      "text/plain": [
       "FloatProgress(value=0.0, layout=Layout(width='auto'), style=ProgressStyle(bar_color='black'))"
      ]
     },
     "metadata": {},
     "output_type": "display_data"
    },
    {
     "name": "stdout",
     "output_type": "stream",
     "text": [
      "✅ Chunk 82 inserted (250000 rows)\n"
     ]
    },
    {
     "data": {
      "application/vnd.jupyter.widget-view+json": {
       "model_id": "60caa5bbbf884d02bec8f31a2c34f4e9",
       "version_major": 2,
       "version_minor": 0
      },
      "text/plain": [
       "FloatProgress(value=0.0, layout=Layout(width='auto'), style=ProgressStyle(bar_color='black'))"
      ]
     },
     "metadata": {},
     "output_type": "display_data"
    },
    {
     "name": "stdout",
     "output_type": "stream",
     "text": [
      "✅ Chunk 83 inserted (250000 rows)\n"
     ]
    },
    {
     "data": {
      "application/vnd.jupyter.widget-view+json": {
       "model_id": "46be2eea6e4749318e2b78abec3c4525",
       "version_major": 2,
       "version_minor": 0
      },
      "text/plain": [
       "FloatProgress(value=0.0, layout=Layout(width='auto'), style=ProgressStyle(bar_color='black'))"
      ]
     },
     "metadata": {},
     "output_type": "display_data"
    },
    {
     "name": "stdout",
     "output_type": "stream",
     "text": [
      "✅ Chunk 84 inserted (250000 rows)\n"
     ]
    },
    {
     "data": {
      "application/vnd.jupyter.widget-view+json": {
       "model_id": "0d8e47dc4877466083b6d2ca2a6e27e5",
       "version_major": 2,
       "version_minor": 0
      },
      "text/plain": [
       "FloatProgress(value=0.0, layout=Layout(width='auto'), style=ProgressStyle(bar_color='black'))"
      ]
     },
     "metadata": {},
     "output_type": "display_data"
    },
    {
     "name": "stdout",
     "output_type": "stream",
     "text": [
      "✅ Chunk 85 inserted (250000 rows)\n"
     ]
    },
    {
     "data": {
      "application/vnd.jupyter.widget-view+json": {
       "model_id": "876d5ec504944e1db363617a7cf7d16d",
       "version_major": 2,
       "version_minor": 0
      },
      "text/plain": [
       "FloatProgress(value=0.0, layout=Layout(width='auto'), style=ProgressStyle(bar_color='black'))"
      ]
     },
     "metadata": {},
     "output_type": "display_data"
    },
    {
     "name": "stdout",
     "output_type": "stream",
     "text": [
      "✅ Chunk 86 inserted (250000 rows)\n"
     ]
    },
    {
     "data": {
      "application/vnd.jupyter.widget-view+json": {
       "model_id": "bbe943f050794723910bcf89ce5bebfa",
       "version_major": 2,
       "version_minor": 0
      },
      "text/plain": [
       "FloatProgress(value=0.0, layout=Layout(width='auto'), style=ProgressStyle(bar_color='black'))"
      ]
     },
     "metadata": {},
     "output_type": "display_data"
    },
    {
     "name": "stdout",
     "output_type": "stream",
     "text": [
      "✅ Chunk 87 inserted (250000 rows)\n"
     ]
    },
    {
     "data": {
      "application/vnd.jupyter.widget-view+json": {
       "model_id": "3df305f4ea6a4445b4e55c3db651d77b",
       "version_major": 2,
       "version_minor": 0
      },
      "text/plain": [
       "FloatProgress(value=0.0, layout=Layout(width='auto'), style=ProgressStyle(bar_color='black'))"
      ]
     },
     "metadata": {},
     "output_type": "display_data"
    },
    {
     "name": "stdout",
     "output_type": "stream",
     "text": [
      "✅ Chunk 88 inserted (250000 rows)\n"
     ]
    },
    {
     "data": {
      "application/vnd.jupyter.widget-view+json": {
       "model_id": "293413c2990b49ec9d4bc658b72b0351",
       "version_major": 2,
       "version_minor": 0
      },
      "text/plain": [
       "FloatProgress(value=0.0, layout=Layout(width='auto'), style=ProgressStyle(bar_color='black'))"
      ]
     },
     "metadata": {},
     "output_type": "display_data"
    },
    {
     "name": "stdout",
     "output_type": "stream",
     "text": [
      "✅ Chunk 89 inserted (250000 rows)\n"
     ]
    },
    {
     "data": {
      "application/vnd.jupyter.widget-view+json": {
       "model_id": "f99199cf8edc4618921da0ba1831c3e4",
       "version_major": 2,
       "version_minor": 0
      },
      "text/plain": [
       "FloatProgress(value=0.0, layout=Layout(width='auto'), style=ProgressStyle(bar_color='black'))"
      ]
     },
     "metadata": {},
     "output_type": "display_data"
    },
    {
     "name": "stdout",
     "output_type": "stream",
     "text": [
      "✅ Chunk 90 inserted (250000 rows)\n"
     ]
    },
    {
     "data": {
      "application/vnd.jupyter.widget-view+json": {
       "model_id": "7a02438fd9fc4b2c8b6e73b4a71da3a0",
       "version_major": 2,
       "version_minor": 0
      },
      "text/plain": [
       "FloatProgress(value=0.0, layout=Layout(width='auto'), style=ProgressStyle(bar_color='black'))"
      ]
     },
     "metadata": {},
     "output_type": "display_data"
    },
    {
     "name": "stdout",
     "output_type": "stream",
     "text": [
      "✅ Chunk 91 inserted (250000 rows)\n"
     ]
    },
    {
     "data": {
      "application/vnd.jupyter.widget-view+json": {
       "model_id": "7de2650a7f2246b988555a47afae0e4f",
       "version_major": 2,
       "version_minor": 0
      },
      "text/plain": [
       "FloatProgress(value=0.0, layout=Layout(width='auto'), style=ProgressStyle(bar_color='black'))"
      ]
     },
     "metadata": {},
     "output_type": "display_data"
    },
    {
     "name": "stdout",
     "output_type": "stream",
     "text": [
      "✅ Chunk 92 inserted (250000 rows)\n"
     ]
    },
    {
     "data": {
      "application/vnd.jupyter.widget-view+json": {
       "model_id": "2606a92e867d4ebba3985644bfe404c2",
       "version_major": 2,
       "version_minor": 0
      },
      "text/plain": [
       "FloatProgress(value=0.0, layout=Layout(width='auto'), style=ProgressStyle(bar_color='black'))"
      ]
     },
     "metadata": {},
     "output_type": "display_data"
    },
    {
     "name": "stdout",
     "output_type": "stream",
     "text": [
      "✅ Chunk 93 inserted (250000 rows)\n"
     ]
    },
    {
     "data": {
      "application/vnd.jupyter.widget-view+json": {
       "model_id": "2d134f34442243128a47c3d531812915",
       "version_major": 2,
       "version_minor": 0
      },
      "text/plain": [
       "FloatProgress(value=0.0, layout=Layout(width='auto'), style=ProgressStyle(bar_color='black'))"
      ]
     },
     "metadata": {},
     "output_type": "display_data"
    },
    {
     "name": "stdout",
     "output_type": "stream",
     "text": [
      "✅ Chunk 94 inserted (250000 rows)\n"
     ]
    },
    {
     "data": {
      "application/vnd.jupyter.widget-view+json": {
       "model_id": "cb0ba9bd863b4c829d2e24abb164860c",
       "version_major": 2,
       "version_minor": 0
      },
      "text/plain": [
       "FloatProgress(value=0.0, layout=Layout(width='auto'), style=ProgressStyle(bar_color='black'))"
      ]
     },
     "metadata": {},
     "output_type": "display_data"
    },
    {
     "name": "stdout",
     "output_type": "stream",
     "text": [
      "✅ Chunk 95 inserted (250000 rows)\n"
     ]
    },
    {
     "data": {
      "application/vnd.jupyter.widget-view+json": {
       "model_id": "4096f30abe6944cab96c4db3c3e6801a",
       "version_major": 2,
       "version_minor": 0
      },
      "text/plain": [
       "FloatProgress(value=0.0, layout=Layout(width='auto'), style=ProgressStyle(bar_color='black'))"
      ]
     },
     "metadata": {},
     "output_type": "display_data"
    },
    {
     "name": "stdout",
     "output_type": "stream",
     "text": [
      "✅ Chunk 96 inserted (161390 rows)\n"
     ]
    },
    {
     "data": {
      "application/vnd.jupyter.widget-view+json": {
       "model_id": "b240fde542c8482b9f84379955e700ea",
       "version_major": 2,
       "version_minor": 0
      },
      "text/plain": [
       "FloatProgress(value=0.0, layout=Layout(width='auto'), style=ProgressStyle(bar_color='black'))"
      ]
     },
     "metadata": {},
     "output_type": "display_data"
    },
    {
     "data": {
      "application/vnd.jupyter.widget-view+json": {
       "model_id": "1e59aaf98a8f4b5a980e7bd26306866e",
       "version_major": 2,
       "version_minor": 0
      },
      "text/plain": [
       "FloatProgress(value=0.0, layout=Layout(width='auto'), style=ProgressStyle(bar_color='black'))"
      ]
     },
     "metadata": {},
     "output_type": "display_data"
    },
    {
     "name": "stdout",
     "output_type": "stream",
     "text": [
      "❌ Error with Beauty_and_Personal_Care_merged.parquet: Out of Memory Error: failed to pin block of size 256.0 KiB (12.4 GiB/12.4 GiB used)\n",
      "\n",
      "🏁 All deduplication complete.\n"
     ]
    }
   ],
   "source": [
    "categories = ['Beauty_and_Personal_Care', 'Electronics', 'Books', 'Clothing_Shoes_and_Jewelry', ]\n",
    "\n",
    "# 'All_Beauty', 'Amazon_Fashion',  'Appliances', 'Arts_Crafts_and_Sewing',  'Baby_Products', 'CDs_and_Vinyl',  'Digital_Music', 'Gift_Cards' 'Cell_Phones_and_Accessories', \n",
    "\n",
    "deduplicate_folder_merged_files(\n",
    "    CLEANED_DIR,\n",
    "    CLEANED_DIR,\n",
    "    dedup_columns=[\"user_id\", \"asin\", \"text\"],\n",
    "    order_column=\"year\",\n",
    "    chunk_threshold_gb=2.0  # Files over 2 GB will trigger chunking\n",
    ")\n",
    "\n",
    "# for cat in categories:\n",
    "#     # merge_parquet_to_duckdb(cat, CLEANED_DIR)\n",
    "#     deduplicate_all_parquets(CLEANED_DIR)\n",
    "#     gc.collect()\n"
   ]
  },
  {
   "cell_type": "code",
   "execution_count": null,
   "id": "39254134",
   "metadata": {},
   "outputs": [],
   "source": [
    "import duckdb\n",
    "import os\n",
    "\n",
    "def merge_parquet_to_duckdb(category, cleaned_dir):\n",
    "    review_path = os.path.join(cleaned_dir, f\"{category}_review.parquet\")\n",
    "    meta_path = os.path.join(cleaned_dir, f\"{category}_meta.parquet\")\n",
    "    output_path = os.path.join(cleaned_dir, f\"{category}_merged.parquet\")\n",
    "\n",
    "    if not os.path.exists(review_path) or not os.path.exists(meta_path):\n",
    "        print(f\"⚠️ Skipping {category} — one of the parquet files is missing.\")\n",
    "        return\n",
    "\n",
    "    print(f\"🔄 Merging: {category}\")\n",
    "\n",
    "    con = duckdb.connect(database=os.path.join(cleaned_dir, \"temp_duckdb.db\"))\n",
    "    con.execute(\"PRAGMA max_temp_directory_size='64GiB';\")\n",
    "\n",
    "    con.execute(f\"\"\"\n",
    "        CREATE OR REPLACE TABLE review AS SELECT * FROM '{review_path}';\n",
    "    \"\"\")\n",
    "\n",
    "    con.execute(f\"\"\"\n",
    "        CREATE OR REPLACE TABLE meta AS\n",
    "        SELECT *,\n",
    "            CASE\n",
    "                WHEN try_cast(details AS JSON) IS NOT NULL AND json_extract(details, '$.brand') IS NOT NULL\n",
    "                THEN json_extract(details, '$.brand')::STRING\n",
    "                ELSE 'Unknown'\n",
    "            END AS brand\n",
    "        FROM '{meta_path}';\n",
    "    \"\"\")\n",
    "\n",
    "    con.execute(f\"\"\"\n",
    "        CREATE OR REPLACE TABLE cleaned AS\n",
    "        SELECT *\n",
    "        FROM (\n",
    "            SELECT\n",
    "                r.user_id,\n",
    "                r.asin,\n",
    "                r.parent_asin,\n",
    "                r.rating,\n",
    "                r.text,\n",
    "                r.verified_purchase,\n",
    "                r.helpful_vote,\n",
    "                array_length(string_split(r.text, ' ')) AS review_length,\n",
    "                strftime(\n",
    "                    CASE \n",
    "                        WHEN typeof(r.timestamp) = 'VARCHAR' THEN CAST(r.timestamp AS TIMESTAMP)\n",
    "                        ELSE to_timestamp(CAST(r.timestamp AS DOUBLE) / 1000.0)\n",
    "                    END,\n",
    "                    '%Y'\n",
    "                )::INTEGER AS year,\n",
    "                m.brand,\n",
    "                m.main_category,\n",
    "                m.title,\n",
    "                m.average_rating,\n",
    "                m.rating_number,\n",
    "                m.price,\n",
    "                '{category}' AS category,\n",
    "                ROW_NUMBER() OVER (\n",
    "                    PARTITION BY r.user_id, r.asin, r.text\n",
    "                    ORDER BY r.timestamp\n",
    "                ) AS row_num\n",
    "            FROM review r\n",
    "            LEFT JOIN meta m ON r.parent_asin = m.parent_asin\n",
    "            WHERE r.rating BETWEEN 1 AND 5 AND r.text IS NOT NULL\n",
    "        )\n",
    "        WHERE row_num = 1;\n",
    "    \"\"\")\n",
    "\n",
    "    con.execute(f\"\"\"\n",
    "        COPY cleaned TO '{output_path}' (FORMAT PARQUET);\n",
    "    \"\"\")\n",
    "\n",
    "    con.close()\n",
    "    print(f\"Saved merged and cleaned data → {output_path}\")\n"
   ]
  },
  {
   "cell_type": "code",
   "execution_count": null,
   "id": "6acf99f8",
   "metadata": {},
   "outputs": [],
   "source": [
    "import duckdb\n",
    "import os\n",
    "import hashlib\n",
    "\n",
    "def deduplicate_reviews(category, cleaned_dir):\n",
    "    intermediate_path = os.path.join(cleaned_dir, f\"{category}_merged_raw.parquet\")\n",
    "    output_path = os.path.join(cleaned_dir, f\"{category}_merged.parquet\")\n",
    "    temp_db_path = os.path.join(cleaned_dir, \"temp_duckdb.db\")\n",
    "\n",
    "    if not os.path.exists(intermediate_path):\n",
    "        print(f\"⚠️ Skipping {category} — intermediate file missing.\")\n",
    "        return\n",
    "\n",
    "    print(f\"🧹 Deduplicating in chunks: {category}\")\n",
    "\n",
    "    con = duckdb.connect(database=temp_db_path)\n",
    "\n",
    "    con.execute(\"DROP TABLE IF EXISTS temp_reviews;\")\n",
    "    con.execute(f\"CREATE TABLE temp_reviews AS SELECT * FROM read_parquet('{intermediate_path}');\")\n",
    "\n",
    "    hex_chars = '0123456789abcdef'\n",
    "    temp_outputs = []\n",
    "\n",
    "    for char in hex_chars:\n",
    "        print(f\"🧩 Processing chunk for user_id hash prefix '{char}'\")\n",
    "        temp_output_chunk = os.path.join(cleaned_dir, f\"tmp_{category}_{char}.parquet\")\n",
    "        temp_outputs.append(temp_output_chunk)\n",
    "\n",
    "        con.execute(f\"\"\"\n",
    "            COPY (\n",
    "                SELECT *\n",
    "                FROM (\n",
    "                    SELECT *,\n",
    "                        ROW_NUMBER() OVER (\n",
    "                            PARTITION BY user_id, asin, text\n",
    "                            ORDER BY timestamp\n",
    "                        ) AS row_num\n",
    "                    FROM temp_reviews\n",
    "                    WHERE substr(md5(user_id), 1, 1) = '{char}'\n",
    "                )\n",
    "                WHERE row_num = 1\n",
    "            ) TO '{temp_output_chunk}' (FORMAT PARQUET);\n",
    "        \"\"\")\n",
    "\n",
    "    # Merge all chunk outputs\n",
    "    print(f\"🧬 Merging deduplicated chunks for: {category}\")\n",
    "    union_sql = \" UNION ALL \".join([\n",
    "    f\"(SELECT * FROM read_parquet('{p}'))\" for p in temp_outputs])\n",
    "    con.execute(f\"COPY ({union_sql}) TO '{output_path}' (FORMAT PARQUET);\")\n",
    "\n",
    "    # Cleanup\n",
    "    for temp_file in temp_outputs:\n",
    "        os.remove(temp_file)\n",
    "\n",
    "    con.close()\n",
    "    print(f\"✅ Saved deduplicated data → {output_path}\")\n"
   ]
  },
  {
   "cell_type": "code",
   "execution_count": 3,
   "id": "0d96d474",
   "metadata": {},
   "outputs": [],
   "source": [
    "import os\n",
    "import glob\n",
    "import duckdb\n",
    "\n",
    "def deduplicate_all_parquets(folder_path):\n",
    "    parquet_files = glob.glob(os.path.join(folder_path, \"*_merged.parquet\"))\n",
    "    \n",
    "    if not parquet_files:\n",
    "        print(\"No merged parquet files found.\")\n",
    "        return\n",
    "\n",
    "    con = duckdb.connect()\n",
    "\n",
    "    for file_path in parquet_files:\n",
    "        filename = os.path.basename(file_path)\n",
    "        output_path = os.path.join(folder_path, filename.replace(\"_merged.parquet\", \"_deduped.parquet\"))\n",
    "        \n",
    "        print(f\"Deduplicating: {filename}\")\n",
    "\n",
    "        con.execute(f\"\"\"\n",
    "            CREATE OR REPLACE TABLE deduplicated AS\n",
    "            SELECT * EXCLUDE(row_num)\n",
    "            FROM (\n",
    "                SELECT *,\n",
    "                    ROW_NUMBER() OVER (\n",
    "                        PARTITION BY user_id, asin, text\n",
    "                        ORDER BY year\n",
    "                    ) AS row_num\n",
    "                FROM read_parquet('{file_path}')\n",
    "            )\n",
    "            WHERE row_num = 1;\n",
    "        \"\"\")\n",
    "\n",
    "        con.execute(f\"COPY deduplicated TO '{output_path}' (FORMAT PARQUET);\")\n",
    "        print(f\"Saved deduplicated file → {output_path}\")\n",
    "\n",
    "    con.close()"
   ]
  }
 ],
 "metadata": {
  "kernelspec": {
   "display_name": "base",
   "language": "python",
   "name": "python3"
  },
  "language_info": {
   "codemirror_mode": {
    "name": "ipython",
    "version": 3
   },
   "file_extension": ".py",
   "mimetype": "text/x-python",
   "name": "python",
   "nbconvert_exporter": "python",
   "pygments_lexer": "ipython3",
   "version": "3.10.9"
  }
 },
 "nbformat": 4,
 "nbformat_minor": 5
}
