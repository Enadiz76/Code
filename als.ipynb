{
 "cells": [
  {
   "cell_type": "code",
   "execution_count": null,
   "id": "db188d4e",
   "metadata": {},
   "outputs": [
    {
     "name": "stdout",
     "output_type": "stream",
     "text": [
      "Loading from Video_Games_merged.parquet\n",
      "Loading from Amazon_Fashion_merged.parquet\n"
     ]
    },
    {
     "name": "stdout",
     "output_type": "stream",
     "text": [
      "Loading from Software_merged.parquet\n",
      "Loading from Health_and_Personal_Care_merged.parquet\n",
      "Loading from Musical_Instruments_merged.parquet\n",
      "Loading from Arts_Crafts_and_Sewing_merged.parquet\n",
      "Loading from Home_and_Kitchen_merged.parquet\n",
      "Skipped /root/cleaned_parquets/Home_and_Kitchen_merged.parquet: Invalid Input Error: No magic bytes found at end of file '/root/cleaned_parquets/Home_and_Kitchen_merged.parquet'\n",
      "Loading from Handmade_Products_merged.parquet\n",
      "Loading from Baby_Products_merged.parquet\n",
      "Loading from Electronics_merged.parquet\n",
      "Loading from CDs_and_Vinyl_merged.parquet\n",
      "Loading from Digital_Music_merged.parquet\n",
      "Loading from Patio_Lawn_and_Garden_merged.parquet\n",
      "Loading from Office_Products_merged.parquet\n",
      "Loading from Beauty_and_Personal_Care_merged.parquet\n",
      "Loading from Kindle_Store_merged.parquet\n",
      "Skipped /root/cleaned_parquets/Kindle_Store_merged.parquet: Invalid Input Error: No magic bytes found at end of file '/root/cleaned_parquets/Kindle_Store_merged.parquet'\n",
      "Loading from Clothing_Shoes_and_Jewelry_merged.parquet\n",
      "Loading from Health_and_Household_merged.parquet\n",
      "Loading from Movies_and_TV_merged.parquet\n",
      "Skipped /root/cleaned_parquets/Movies_and_TV_merged.parquet: Invalid Input Error: No magic bytes found at end of file '/root/cleaned_parquets/Movies_and_TV_merged.parquet'\n",
      "Loading from Grocery_and_Gourmet_Food_merged.parquet\n",
      "Loading from Pet_Supplies_merged.parquet\n",
      "Loading from Industrial_and_Scientific_merged.parquet\n",
      "Loading from Automotive_merged.parquet\n",
      "Loading from Gift_Cards_merged.parquet\n",
      "Loading from All_Beauty_merged.parquet\n",
      "Loading from Sports_and_Outdoors_merged.parquet\n",
      "Loading from Cell_Phones_and_Accessories_merged.parquet\n",
      "Loading from Toys_and_Games_merged.parquet\n",
      "Loading from Tools_and_Home_Improvement_merged.parquet\n",
      "Loading from Books_merged.parquet\n",
      "Loading from Magazine_Subscriptions_merged.parquet\n",
      "Loading from Appliances_merged.parquet\n",
      "Training ALS model...\n"
     ]
    },
    {
     "name": "stderr",
     "output_type": "stream",
     "text": [
      "/root/venv/lib/python3.12/site-packages/implicit/utils.py:164: ParameterWarning: Method expects CSR input, and was passed coo_matrix instead. Converting to CSR took 0.05194449424743652 seconds\n",
      "  warnings.warn(\n",
      "100%|██████████| 15/15 [01:37<00:00,  6.53s/it]"
     ]
    },
    {
     "name": "stdout",
     "output_type": "stream",
     "text": [
      "Sample Recommendations:\n",
      "Recommendations for User AGCI7FAH4GL5FI65HYLKWTMFZ2CQ:\n",
      "  B001S1TRWM — score: 75.0000\n",
      "  B07DJWBYKP — score: 0.0131\n",
      "Recommendations for User AGXVBIUFLFGMVLATYXHJYL4A5Q7Q:\n",
      "  B001S1TRWM — score: 59.0000\n",
      "  B07DJWBYKP — score: 0.0042\n",
      "Recommendations for User AFTC6ZR5IKNRDG5JCPVNVMU3XV2Q:\n",
      "  B08LYKJ1PS — score: 3117.0000\n",
      "  B07DJWBYKP — score: 0.0001\n"
     ]
    },
    {
     "name": "stderr",
     "output_type": "stream",
     "text": [
      "\n"
     ]
    }
   ],
   "source": [
    "import polars as pl\n",
    "import numpy as np\n",
    "from scipy.sparse import coo_matrix, csr_matrix\n",
    "from implicit.als import AlternatingLeastSquares\n",
    "from sklearn.model_selection import train_test_split\n",
    "\n",
    "CLEANED_DIR = \"/root/Merged\"\n",
    "all_files = glob.glob(os.path.join(CLEANED_DIR, \"*_merged.parquet\"))\n",
    "\n",
    "sample_fraction = 0.2  # 20%\n",
    "\n",
    "lazy_frames = []\n",
    "\n",
    "# Step 1: Build lazy loading + sampling pipeline\n",
    "for file in all_files:\n",
    "    print(f\"Scanning {file}\")\n",
    "    lf = pl.scan_parquet(file)\n",
    "    lf = lf.select([\"user_id\", \"asin\", \"rating\"])\n",
    "    lf = lf.filter((pl.col(\"rating\") >= 1) & (pl.col(\"rating\") <= 5))\n",
    "    lf = lf.sample(fraction=sample_fraction)\n",
    "    lazy_frames.append(lf)\n",
    "\n",
    "# Step 2: Combine all sampled LazyFrames\n",
    "combined_lf = pl.concat(lazy_frames)\n",
    "\n",
    "# Step 3: Collect sampled DataFrame\n",
    "df = combined_lf.collect()\n",
    "\n",
    "# Step 4: Categorical encoding\n",
    "df = df.with_columns([\n",
    "    pl.col(\"user_id\").cast(pl.Categorical).alias(\"user_cat\"),\n",
    "    pl.col(\"asin\").cast(pl.Categorical).alias(\"item_cat\")\n",
    "]).drop([\"user_id\", \"asin\"])\n",
    "\n",
    "df = df.with_columns([\n",
    "    pl.col(\"user_cat\").to_physical().alias(\"user_idx\"),\n",
    "    pl.col(\"item_cat\").to_physical().alias(\"item_idx\")\n",
    "])\n",
    "\n",
    "# Step 5: Train/test split\n",
    "user_indices = df[\"user_idx\"].to_numpy()\n",
    "item_indices = df[\"item_idx\"].to_numpy()\n",
    "ratings = df[\"rating\"].cast(pl.Float32).to_numpy()\n",
    "\n",
    "train_idx, test_idx = train_test_split(np.arange(len(df)), test_size=0.2, random_state=42)\n",
    "\n",
    "train_user_indices = user_indices[train_idx]\n",
    "train_item_indices = item_indices[train_idx]\n",
    "train_ratings = ratings[train_idx]\n",
    "\n",
    "test_user_indices = user_indices[test_idx]\n",
    "test_item_indices = item_indices[test_idx]\n",
    "test_ratings = ratings[test_idx]\n",
    "\n",
    "# Step 6: Build sparse matrix\n",
    "train_sparse_csr = coo_matrix(\n",
    "    (train_ratings, (train_user_indices, train_item_indices))\n",
    ").tocsr()\n",
    "\n",
    "# Step 7: Train ALS\n",
    "model = AlternatingLeastSquares(\n",
    "    factors=50,\n",
    "    iterations=15,\n",
    "    regularization=0.1\n",
    ")\n",
    "model.fit(train_sparse_csr.T)  # item-user\n",
    "\n",
    "print(\"Model trained successfully!\")\n"
   ]
  }
 ],
 "metadata": {
  "kernelspec": {
   "display_name": "base",
   "language": "python",
   "name": "python3"
  },
  "language_info": {
   "codemirror_mode": {
    "name": "ipython",
    "version": 3
   },
   "file_extension": ".py",
   "mimetype": "text/x-python",
   "name": "python",
   "nbconvert_exporter": "python",
   "pygments_lexer": "ipython3",
   "version": "undefined.undefined.undefined"
  }
 },
 "nbformat": 4,
 "nbformat_minor": 5
}
