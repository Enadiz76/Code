{
 "cells": [
  {
   "cell_type": "code",
   "execution_count": 1,
   "id": "db188d4e",
   "metadata": {},
   "outputs": [
    {
     "name": "stderr",
     "output_type": "stream",
     "text": [
      "/root/anaconda3/lib/python3.10/site-packages/pandas/core/arrays/masked.py:60: UserWarning: Pandas requires version '1.3.6' or newer of 'bottleneck' (version '1.3.5' currently installed).\n",
      "  from pandas.core import (\n"
     ]
    },
    {
     "name": "stdout",
     "output_type": "stream",
     "text": [
      "Loading from Arts_Crafts_and_Sewing_merged.parquet\n",
      "Loading from Baby_Products_merged.parquet\n",
      "Loading from CDs_and_Vinyl_merged.parquet\n",
      "Loading from Digital_Music_merged.parquet\n",
      "Loading from Beauty_and_Personal_Care_merged.parquet\n",
      "Loading from Clothing_Shoes_and_Jewelry_merged.parquet\n",
      "Loading from Automotive_merged.parquet\n",
      "Loading from Gift_Cards_merged.parquet\n",
      "Loading from All_Beauty_merged.parquet\n",
      "Loading from Cell_Phones_and_Accessories_merged.parquet\n",
      "Loading from Books_merged.parquet\n",
      "Loading from Appliances_merged.parquet\n"
     ]
    },
    {
     "name": "stderr",
     "output_type": "stream",
     "text": [
      "/root/anaconda3/lib/python3.10/site-packages/implicit/cpu/als.py:95: RuntimeWarning: Intel MKL BLAS is configured to use 4 threads. It is highly recommended to disable its internal threadpool by setting the environment variable 'MKL_NUM_THREADS=1' or by callng 'threadpoolctl.threadpool_limits(1, \"blas\")'. Having MKL use a threadpool can lead to severe performance issues\n",
      "  check_blas_config()\n",
      "/root/anaconda3/lib/python3.10/site-packages/implicit/utils.py:164: ParameterWarning: Method expects CSR input, and was passed coo_matrix instead. Converting to CSR took 0.027308225631713867 seconds\n",
      "  warnings.warn(\n"
     ]
    },
    {
     "data": {
      "application/vnd.jupyter.widget-view+json": {
       "model_id": "9db19f5edd934c839e801de87660a49c",
       "version_major": 2,
       "version_minor": 0
      },
      "text/plain": [
       "  0%|          | 0/15 [00:00<?, ?it/s]"
      ]
     },
     "metadata": {},
     "output_type": "display_data"
    },
    {
     "name": "stdout",
     "output_type": "stream",
     "text": [
      "Sample Recommendations:\n",
      "User AFYIOFE7ZRJFQLVCXLJS5YX5PBUA: ['B000L6H3NA', 'B00LTATPLU', 'B08YYNVZN9', 'B001PB7OS4', 'B09WCQS8MW']\n",
      "User AH7CB6NHGGJ5MIGMDB4NWZO57FHA: ['B000L6H3NA', 'B00LTATPLU', 'B093FVGKT7', 'B005BTKFYG']\n",
      "User AE7WSZXPO336LQEJDYP2ZHUKT5HA: ['B0036I6DOK']\n"
     ]
    }
   ],
   "source": [
    "import duckdb\n",
    "import glob\n",
    "import os\n",
    "import pandas as pd\n",
    "from scipy.sparse import coo_matrix\n",
    "from implicit.als import AlternatingLeastSquares\n",
    "\n",
    "CLEANED_DIR = \"/root/Merged\"\n",
    "all_files = glob.glob(os.path.join(CLEANED_DIR, \"*_merged.parquet\"))\n",
    "\n",
    "df_list = []\n",
    "\n",
    "# Load relevant data in batches\n",
    "for file in all_files:\n",
    "    print(f\"Loading from {os.path.basename(file)}\")\n",
    "    try:\n",
    "        df = duckdb.sql(f\"\"\"\n",
    "            SELECT user_id, asin, rating\n",
    "            FROM '{file}'\n",
    "            WHERE rating BETWEEN 1 AND 5\n",
    "            LIMIT 50000\n",
    "        \"\"\").df()\n",
    "        df_list.append(df)\n",
    "    except Exception as e:\n",
    "        print(f\"Skipped {file}: {e}\")\n",
    "\n",
    "# Combine all batches\n",
    "df = pd.concat(df_list, ignore_index=True).dropna()\n",
    "\n",
    "# Encode IDs\n",
    "user_map = {u: i for i, u in enumerate(df['user_id'].unique())}\n",
    "item_map = {a: j for j, a in enumerate(df['asin'].unique())}\n",
    "df['user_idx'] = df['user_id'].map(user_map)\n",
    "df['item_idx'] = df['asin'].map(item_map)\n",
    "\n",
    "# Create sparse matrix (item-user for training)\n",
    "ratings_matrix = coo_matrix((df['rating'], (df['user_idx'], df['item_idx'])))\n",
    "ratings_matrix_csr = ratings_matrix.tocsr()\n",
    "\n",
    "# Train ALS\n",
    "model = AlternatingLeastSquares(factors=50, iterations=15, regularization=0.1)\n",
    "model.fit(ratings_matrix.T)  # transpose = item-user\n",
    "\n",
    "# Reverse the item_map to map indices back to item IDs\n",
    "reverse_item_map = {v: k for k, v in item_map.items()}\n",
    "\n",
    "# Recommend for 3 users\n",
    "print(\"Sample Recommendations:\")\n",
    "for user_id in list(user_map.keys())[:3]:\n",
    "    user_idx = user_map[user_id]\n",
    "    user_ratings = ratings_matrix_csr[user_idx]  # Extract only that user's row\n",
    "    recs = model.recommend(user_idx, user_ratings, N=5)  # Returns two arrays: (indices, scores)\n",
    "    \n",
    "    # Extract item IDs from recommendations\n",
    "    item_indices, scores = recs  # Unpack the two arrays\n",
    "    \n",
    "    # Filter out indices not in reverse_item_map\n",
    "    valid_item_ids = [reverse_item_map[i] for i in item_indices if i in reverse_item_map]\n",
    "    \n",
    "    print(f\"User {user_id}: {valid_item_ids}\")\n"
   ]
  }
 ],
 "metadata": {
  "kernelspec": {
   "display_name": "base",
   "language": "python",
   "name": "python3"
  },
  "language_info": {
   "codemirror_mode": {
    "name": "ipython",
    "version": 3
   },
   "file_extension": ".py",
   "mimetype": "text/x-python",
   "name": "python",
   "nbconvert_exporter": "python",
   "pygments_lexer": "ipython3",
   "version": "3.10.9"
  }
 },
 "nbformat": 4,
 "nbformat_minor": 5
}
