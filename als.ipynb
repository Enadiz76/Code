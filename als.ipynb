{
 "cells": [
  {
   "cell_type": "code",
   "execution_count": 2,
   "id": "db188d4e",
   "metadata": {},
   "outputs": [
    {
     "name": "stdout",
     "output_type": "stream",
     "text": [
      "Loading from Video_Games_merged.parquet\n",
      "Loading from Amazon_Fashion_merged.parquet\n"
     ]
    },
    {
     "name": "stdout",
     "output_type": "stream",
     "text": [
      "Loading from Software_merged.parquet\n",
      "Loading from Health_and_Personal_Care_merged.parquet\n",
      "Loading from Musical_Instruments_merged.parquet\n",
      "Loading from Arts_Crafts_and_Sewing_merged.parquet\n",
      "Loading from Home_and_Kitchen_merged.parquet\n",
      "Skipped /root/cleaned_parquets/Home_and_Kitchen_merged.parquet: Invalid Input Error: No magic bytes found at end of file '/root/cleaned_parquets/Home_and_Kitchen_merged.parquet'\n",
      "Loading from Handmade_Products_merged.parquet\n",
      "Loading from Baby_Products_merged.parquet\n",
      "Loading from Electronics_merged.parquet\n",
      "Loading from CDs_and_Vinyl_merged.parquet\n",
      "Loading from Digital_Music_merged.parquet\n",
      "Loading from Patio_Lawn_and_Garden_merged.parquet\n",
      "Loading from Office_Products_merged.parquet\n",
      "Loading from Beauty_and_Personal_Care_merged.parquet\n",
      "Loading from Kindle_Store_merged.parquet\n",
      "Skipped /root/cleaned_parquets/Kindle_Store_merged.parquet: Invalid Input Error: No magic bytes found at end of file '/root/cleaned_parquets/Kindle_Store_merged.parquet'\n",
      "Loading from Clothing_Shoes_and_Jewelry_merged.parquet\n",
      "Loading from Health_and_Household_merged.parquet\n",
      "Loading from Movies_and_TV_merged.parquet\n",
      "Skipped /root/cleaned_parquets/Movies_and_TV_merged.parquet: Invalid Input Error: No magic bytes found at end of file '/root/cleaned_parquets/Movies_and_TV_merged.parquet'\n",
      "Loading from Grocery_and_Gourmet_Food_merged.parquet\n",
      "Loading from Pet_Supplies_merged.parquet\n",
      "Loading from Industrial_and_Scientific_merged.parquet\n",
      "Loading from Automotive_merged.parquet\n",
      "Loading from Gift_Cards_merged.parquet\n",
      "Loading from All_Beauty_merged.parquet\n",
      "Loading from Sports_and_Outdoors_merged.parquet\n",
      "Loading from Cell_Phones_and_Accessories_merged.parquet\n",
      "Loading from Toys_and_Games_merged.parquet\n",
      "Loading from Tools_and_Home_Improvement_merged.parquet\n",
      "Loading from Books_merged.parquet\n",
      "Loading from Magazine_Subscriptions_merged.parquet\n",
      "Loading from Appliances_merged.parquet\n",
      "Training ALS model...\n"
     ]
    },
    {
     "name": "stderr",
     "output_type": "stream",
     "text": [
      "/root/venv/lib/python3.12/site-packages/implicit/utils.py:164: ParameterWarning: Method expects CSR input, and was passed coo_matrix instead. Converting to CSR took 0.05194449424743652 seconds\n",
      "  warnings.warn(\n",
      "100%|██████████| 15/15 [01:37<00:00,  6.53s/it]"
     ]
    },
    {
     "name": "stdout",
     "output_type": "stream",
     "text": [
      "Sample Recommendations:\n",
      "Recommendations for User AGCI7FAH4GL5FI65HYLKWTMFZ2CQ:\n",
      "  B001S1TRWM — score: 75.0000\n",
      "  B07DJWBYKP — score: 0.0131\n",
      "Recommendations for User AGXVBIUFLFGMVLATYXHJYL4A5Q7Q:\n",
      "  B001S1TRWM — score: 59.0000\n",
      "  B07DJWBYKP — score: 0.0042\n",
      "Recommendations for User AFTC6ZR5IKNRDG5JCPVNVMU3XV2Q:\n",
      "  B08LYKJ1PS — score: 3117.0000\n",
      "  B07DJWBYKP — score: 0.0001\n"
     ]
    },
    {
     "name": "stderr",
     "output_type": "stream",
     "text": [
      "\n"
     ]
    }
   ],
   "source": [
    "import duckdb\n",
    "import glob\n",
    "import os\n",
    "import pandas as pd\n",
    "from scipy.sparse import coo_matrix\n",
    "from implicit.als import AlternatingLeastSquares\n",
    "\n",
    "CLEANED_DIR = \"/root/cleaned_parquets\"\n",
    "all_files = glob.glob(os.path.join(CLEANED_DIR, \"*_merged.parquet\"))\n",
    "\n",
    "df_list = []\n",
    "\n",
    "for file in all_files:\n",
    "    print(f\"Loading from {os.path.basename(file)}\")\n",
    "    try:\n",
    "        df = duckdb.sql(f\"\"\"\n",
    "            SELECT user_id, asin, CAST(rating AS DOUBLE) AS rating\n",
    "            FROM '{file}'\n",
    "            WHERE rating BETWEEN 1 AND 5\n",
    "            LIMIT 50000\n",
    "        \"\"\").df()\n",
    "\n",
    "        if all(col in df.columns for col in [\"user_id\", \"asin\", \"rating\"]):\n",
    "            df = df.dropna(subset=[\"user_id\", \"asin\", \"rating\"])\n",
    "            df_list.append(df)\n",
    "        else:\n",
    "            print(f\"Skipped {file}: missing required columns\")\n",
    "    except Exception as e:\n",
    "        print(f\"Skipped {file}: {e}\")\n",
    "\n",
    "if not df_list:\n",
    "    raise ValueError(\"No valid data was loaded from the parquet files.\")\n",
    "\n",
    "df = pd.concat(df_list, ignore_index=True)\n",
    "\n",
    "user_map = {u: i for i, u in enumerate(df['user_id'].unique())}\n",
    "item_map = {a: j for j, a in enumerate(df['asin'].unique())}\n",
    "reverse_item_map = {j: a for a, j in item_map.items()}\n",
    "\n",
    "df['user_idx'] = df['user_id'].map(user_map)\n",
    "df['item_idx'] = df['asin'].map(item_map)\n",
    "\n",
    "ratings_matrix = coo_matrix((df['rating'], (df['user_idx'], df['item_idx'])))\n",
    "ratings_matrix_csr = ratings_matrix.tocsr()\n",
    "\n",
    "print(\"Training ALS model...\")\n",
    "model = AlternatingLeastSquares(\n",
    "    factors=50,\n",
    "    iterations=15,\n",
    "    regularization=0.1,\n",
    "    use_gpu=False\n",
    ")\n",
    "model.fit(ratings_matrix.T)\n",
    "\n",
    "print(\"Sample Recommendations:\")\n",
    "for user_id in list(user_map.keys())[:3]:\n",
    "    user_idx = user_map.get(user_id)\n",
    "    if user_idx is None:\n",
    "        continue\n",
    "\n",
    "    user_ratings = ratings_matrix_csr[user_idx]\n",
    "\n",
    "    try:\n",
    "        recs = model.recommend(user_idx, user_ratings, N=5, filter_already_liked_items=True)\n",
    "        print(f\"Recommendations for User {user_id}:\")\n",
    "        for row in recs:\n",
    "            item_idx = int(row[0])\n",
    "            score = float(row[1])\n",
    "            asin = reverse_item_map.get(item_idx, \"Unknown\")\n",
    "            print(f\"  {asin} — score: {score:.4f}\")\n",
    "    except Exception as e:\n",
    "        print(f\"Could not generate recommendations for {user_id}: {e}\")\n"
   ]
  }
 ],
 "metadata": {
  "kernelspec": {
   "display_name": "venv",
   "language": "python",
   "name": "python3"
  },
  "language_info": {
   "codemirror_mode": {
    "name": "ipython",
    "version": 3
   },
   "file_extension": ".py",
   "mimetype": "text/x-python",
   "name": "python",
   "nbconvert_exporter": "python",
   "pygments_lexer": "ipython3",
   "version": "3.12.7"
  }
 },
 "nbformat": 4,
 "nbformat_minor": 5
}
