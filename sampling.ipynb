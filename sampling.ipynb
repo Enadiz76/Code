{
 "cells": [
  {
   "cell_type": "code",
   "execution_count": 6,
   "id": "67d0b5b5",
   "metadata": {},
   "outputs": [],
   "source": [
    "import duckdb\n",
    "import glob\n",
    "import os\n",
    "\n",
    "def sample_parquet_file(file_path, sample_pct=10):\n",
    "    \n",
    "    base_dir = os.path.dirname(file_path)\n",
    "    filename = os.path.basename(file_path).replace(\"_merged.parquet\", f\"_sampled_{sample_pct}pct.parquet\")\n",
    "\n",
    "    sampled_dir = os.path.join(base_dir, \"Sampled\")\n",
    "    os.makedirs(sampled_dir, exist_ok=True)\n",
    "\n",
    "    output_path = os.path.join(sampled_dir, filename)\n",
    "\n",
    "    temp_table = \"temp_sample\"\n",
    "    print(f\"Sampling {sample_pct}% from {os.path.basename(file_path)}\")\n",
    "\n",
    "    try:\n",
    "        con = duckdb.connect()\n",
    "\n",
    "\n",
    "        total_rows = con.sql(f\"SELECT COUNT(*) FROM read_parquet('{file_path}')\").fetchone()[0]\n",
    "        sample_rows = int(total_rows * sample_pct / 100)\n",
    "\n",
    "\n",
    "        con.execute(f\"DROP TABLE IF EXISTS {temp_table};\")\n",
    "        con.execute(f\"\"\"\n",
    "            CREATE TABLE {temp_table} AS\n",
    "            SELECT *\n",
    "            FROM read_parquet('{file_path}')\n",
    "            USING SAMPLE RESERVOIR({sample_rows});\n",
    "        \"\"\")\n",
    "\n",
    "\n",
    "        con.execute(f\"COPY {temp_table} TO '{output_path}' (FORMAT PARQUET);\")\n",
    "\n",
    "        con.close()\n",
    "        print(f\"✅ Saved sample → {output_path} ({sample_rows:,} rows)\")\n",
    "    except Exception as e:\n",
    "        print(f\"Failed on {os.path.basename(file_path)}: {e}\")\n",
    "        try:\n",
    "            con.close()\n",
    "        except:\n",
    "            pass"
   ]
  },
  {
   "cell_type": "code",
   "execution_count": 7,
   "id": "b9e49b86",
   "metadata": {},
   "outputs": [
    {
     "name": "stdout",
     "output_type": "stream",
     "text": [
      "Sampling 10% from Video_Games_merged.parquet\n"
     ]
    },
    {
     "data": {
      "application/vnd.jupyter.widget-view+json": {
       "model_id": "8e929d164d5340db8f15a38829726bd3",
       "version_major": 2,
       "version_minor": 0
      },
      "text/plain": [
       "FloatProgress(value=0.0, layout=Layout(width='auto'), style=ProgressStyle(bar_color='black'))"
      ]
     },
     "metadata": {},
     "output_type": "display_data"
    },
    {
     "name": "stdout",
     "output_type": "stream",
     "text": [
      "✅ Saved sample → /root/test/Sampled/Video_Games_sampled_10pct.parquet (457,096 rows)\n"
     ]
    }
   ],
   "source": [
    "CLEANED_DIR = \"/root/test\"\n",
    "all_files = glob.glob(os.path.join(CLEANED_DIR, \"*_merged.parquet\"))\n",
    "\n",
    "for file in all_files:\n",
    "    sample_parquet_file(file, sample_pct=10)"
   ]
  },
  {
   "cell_type": "code",
   "execution_count": 12,
   "id": "a20cc605",
   "metadata": {},
   "outputs": [],
   "source": [
    "import duckdb\n",
    "import glob\n",
    "import os\n",
    "\n",
    "def combine_parquet_files(CLEANED_DIR, SAMPLE_PERCENT):\n",
    "    output_path = os.path.join(CLEANED_DIR, f\"all_categories_sampled_{SAMPLE_PERCENT}pct.parquet\")\n",
    "    sampled_files = glob.glob(os.path.join(CLEANED_DIR, f\"*sampled_{SAMPLE_PERCENT}pct.parquet\"))\n",
    "\n",
    "    print(f\"🔗 Combining {len(sampled_files)} sampled files...\")\n",
    "\n",
    "    try:\n",
    "        con = duckdb.connect()\n",
    "\n",
    "        # Step 1: Collect all unique column names\n",
    "        all_columns = set()\n",
    "        for file in sampled_files:\n",
    "            cols = con.execute(f\"DESCRIBE SELECT * FROM read_parquet('{file}')\").fetchall()\n",
    "            all_columns.update([col[0] for col in cols])\n",
    "\n",
    "        all_columns = sorted(all_columns)\n",
    "\n",
    "        # Step 2: Build SELECT statements with aligned columns\n",
    "        select_stmts = []\n",
    "        for file in sampled_files:\n",
    "            cols = con.execute(f\"DESCRIBE SELECT * FROM read_parquet('{file}')\").fetchall()\n",
    "            file_columns = [col[0] for col in cols]\n",
    "\n",
    "            # Normalize the columns: use real column or NULL AS column\n",
    "            select_exprs = [\n",
    "                col if col in file_columns else f\"NULL AS {col}\" for col in all_columns\n",
    "            ]\n",
    "\n",
    "            select_stmt = f\"SELECT {', '.join(select_exprs)} FROM read_parquet('{file}')\"\n",
    "            select_stmts.append(select_stmt)\n",
    "\n",
    "        # Step 3: Combine and write to disk\n",
    "        union_query = \" UNION ALL \".join(select_stmts)\n",
    "        con.execute(f\"COPY ({union_query}) TO '{output_path}' (FORMAT PARQUET);\")\n",
    "        con.close()\n",
    "\n",
    "        print(f\"✅ Combined file saved to {output_path}\")\n",
    "\n",
    "    except Exception as e:\n",
    "        print(f\"❌ Failed to combine: {e}\")\n",
    "        try:\n",
    "            con.close()\n",
    "        except:\n",
    "            pass"
   ]
  },
  {
   "cell_type": "code",
   "execution_count": null,
   "id": "d40ce7ff",
   "metadata": {},
   "outputs": [],
   "source": [
    "# combine_parquet_files(CLEANED_DIR, SAMPLE_PERCENT=10)"
   ]
  }
 ],
 "metadata": {
  "kernelspec": {
   "display_name": "base",
   "language": "python",
   "name": "python3"
  },
  "language_info": {
   "codemirror_mode": {
    "name": "ipython",
    "version": 3
   },
   "file_extension": ".py",
   "mimetype": "text/x-python",
   "name": "python",
   "nbconvert_exporter": "python",
   "pygments_lexer": "ipython3",
   "version": "3.10.9"
  }
 },
 "nbformat": 4,
 "nbformat_minor": 5
}
