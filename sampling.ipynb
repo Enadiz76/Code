{
 "cells": [
  {
   "cell_type": "code",
   "execution_count": null,
   "id": "67d0b5b5",
   "metadata": {},
   "outputs": [],
   "source": [
    "import duckdb\n",
    "import glob\n",
    "import os\n",
    "\n",
    "def sample_parquet_file(file_path, sample_pct=10):\n",
    "    output_path = file_path.replace(\"_merged.parquet\", f\"_sampled_{sample_pct}pct.parquet\")\n",
    "    temp_table = \"temp_sample\"\n",
    "    print(f\"Sampling {sample_pct}% from {os.path.basename(file_path)}\")\n",
    "\n",
    "    try:\n",
    "        con = duckdb.connect()\n",
    "\n",
    "\n",
    "        total_rows = con.sql(f\"SELECT COUNT(*) FROM read_parquet('{file_path}')\").fetchone()[0]\n",
    "        sample_rows = int(total_rows * sample_pct / 100)\n",
    "\n",
    "\n",
    "        con.execute(f\"DROP TABLE IF EXISTS {temp_table};\")\n",
    "        con.execute(f\"\"\"\n",
    "            CREATE TABLE {temp_table} AS\n",
    "            SELECT *\n",
    "            FROM read_parquet('{file_path}')\n",
    "            USING SAMPLE RESERVOIR({sample_rows});\n",
    "        \"\"\")\n",
    "\n",
    "\n",
    "        con.execute(f\"COPY {temp_table} TO '{output_path}' (FORMAT PARQUET);\")\n",
    "\n",
    "        con.close()\n",
    "        print(f\"✅ Saved sample → {output_path} ({sample_rows:,} rows)\")\n",
    "    except Exception as e:\n",
    "        print(f\"Failed on {os.path.basename(file_path)}: {e}\")\n",
    "        try:\n",
    "            con.close()\n",
    "        except:\n",
    "            pass"
   ]
  },
  {
   "cell_type": "code",
   "execution_count": 7,
   "id": "b9e49b86",
   "metadata": {},
   "outputs": [
    {
     "name": "stdout",
     "output_type": "stream",
     "text": [
      "🎲 Sampling 10% from Video_Games_merged.parquet\n"
     ]
    },
    {
     "data": {
      "application/vnd.jupyter.widget-view+json": {
       "model_id": "617bb33919af4991a254502a8707cf56",
       "version_major": 2,
       "version_minor": 0
      },
      "text/plain": [
       "FloatProgress(value=0.0, layout=Layout(width='auto'), style=ProgressStyle(bar_color='black'))"
      ]
     },
     "metadata": {},
     "output_type": "display_data"
    },
    {
     "name": "stdout",
     "output_type": "stream",
     "text": [
      "✅ Saved sample → /root/Merged-Files/Video_Games_sampled_10pct.parquet (457,096 rows)\n",
      "🎲 Sampling 10% from Amazon_Fashion_merged.parquet\n"
     ]
    },
    {
     "data": {
      "application/vnd.jupyter.widget-view+json": {
       "model_id": "3a59c1deeff245ed93f8cfda7a686d6d",
       "version_major": 2,
       "version_minor": 0
      },
      "text/plain": [
       "FloatProgress(value=0.0, layout=Layout(width='auto'), style=ProgressStyle(bar_color='black'))"
      ]
     },
     "metadata": {},
     "output_type": "display_data"
    },
    {
     "name": "stdout",
     "output_type": "stream",
     "text": [
      "✅ Saved sample → /root/Merged-Files/Amazon_Fashion_sampled_10pct.parquet (247,569 rows)\n",
      "🎲 Sampling 10% from Arts_Crafts_and_Sewing_merged.parquet\n"
     ]
    },
    {
     "data": {
      "application/vnd.jupyter.widget-view+json": {
       "model_id": "d53948f412c149efb873b73fa60c0c32",
       "version_major": 2,
       "version_minor": 0
      },
      "text/plain": [
       "FloatProgress(value=0.0, layout=Layout(width='auto'), style=ProgressStyle(bar_color='black'))"
      ]
     },
     "metadata": {},
     "output_type": "display_data"
    },
    {
     "name": "stdout",
     "output_type": "stream",
     "text": [
      "✅ Saved sample → /root/Merged-Files/Arts_Crafts_and_Sewing_sampled_10pct.parquet (887,638 rows)\n",
      "🎲 Sampling 10% from Home_and_Kitchen_merged.parquet\n"
     ]
    },
    {
     "data": {
      "application/vnd.jupyter.widget-view+json": {
       "model_id": "d7dc8f41ffed4ba586795fddb0db2dad",
       "version_major": 2,
       "version_minor": 0
      },
      "text/plain": [
       "FloatProgress(value=0.0, layout=Layout(width='auto'), style=ProgressStyle(bar_color='black'))"
      ]
     },
     "metadata": {},
     "output_type": "display_data"
    },
    {
     "data": {
      "application/vnd.jupyter.widget-view+json": {
       "model_id": "0efeeb81a3f642aeb40b701291f386d8",
       "version_major": 2,
       "version_minor": 0
      },
      "text/plain": [
       "FloatProgress(value=0.0, layout=Layout(width='auto'), style=ProgressStyle(bar_color='black'))"
      ]
     },
     "metadata": {},
     "output_type": "display_data"
    },
    {
     "name": "stdout",
     "output_type": "stream",
     "text": [
      "✅ Saved sample → /root/Merged-Files/Home_and_Kitchen_sampled_10pct.parquet (6,661,025 rows)\n",
      "🎲 Sampling 10% from Baby_Products_merged.parquet\n"
     ]
    },
    {
     "data": {
      "application/vnd.jupyter.widget-view+json": {
       "model_id": "fcbf9b3f5fe5419b97c03654ba453e35",
       "version_major": 2,
       "version_minor": 0
      },
      "text/plain": [
       "FloatProgress(value=0.0, layout=Layout(width='auto'), style=ProgressStyle(bar_color='black'))"
      ]
     },
     "metadata": {},
     "output_type": "display_data"
    },
    {
     "name": "stdout",
     "output_type": "stream",
     "text": [
      "✅ Saved sample → /root/Merged-Files/Baby_Products_sampled_10pct.parquet (596,795 rows)\n",
      "🎲 Sampling 10% from Unknown_merged.parquet\n"
     ]
    },
    {
     "data": {
      "application/vnd.jupyter.widget-view+json": {
       "model_id": "fdf61cfbe89a42c68d2b739c53d4d0f0",
       "version_major": 2,
       "version_minor": 0
      },
      "text/plain": [
       "FloatProgress(value=0.0, layout=Layout(width='auto'), style=ProgressStyle(bar_color='black'))"
      ]
     },
     "metadata": {},
     "output_type": "display_data"
    },
    {
     "data": {
      "application/vnd.jupyter.widget-view+json": {
       "model_id": "e3aa5dd1e93745f1ae5803e40ceb6418",
       "version_major": 2,
       "version_minor": 0
      },
      "text/plain": [
       "FloatProgress(value=0.0, layout=Layout(width='auto'), style=ProgressStyle(bar_color='black'))"
      ]
     },
     "metadata": {},
     "output_type": "display_data"
    },
    {
     "name": "stdout",
     "output_type": "stream",
     "text": [
      "✅ Saved sample → /root/Merged-Files/Unknown_sampled_10pct.parquet (6,381,397 rows)\n",
      "🎲 Sampling 10% from Electronics_merged.parquet\n"
     ]
    },
    {
     "data": {
      "application/vnd.jupyter.widget-view+json": {
       "model_id": "95c45964d8de4fbc80a8f32659c8d151",
       "version_major": 2,
       "version_minor": 0
      },
      "text/plain": [
       "FloatProgress(value=0.0, layout=Layout(width='auto'), style=ProgressStyle(bar_color='black'))"
      ]
     },
     "metadata": {},
     "output_type": "display_data"
    },
    {
     "data": {
      "application/vnd.jupyter.widget-view+json": {
       "model_id": "4de02c56ac7d4eb59e400d1c5b8c9fc9",
       "version_major": 2,
       "version_minor": 0
      },
      "text/plain": [
       "FloatProgress(value=0.0, layout=Layout(width='auto'), style=ProgressStyle(bar_color='black'))"
      ]
     },
     "metadata": {},
     "output_type": "display_data"
    },
    {
     "name": "stdout",
     "output_type": "stream",
     "text": [
      "✅ Saved sample → /root/Merged-Files/Electronics_sampled_10pct.parquet (4,337,427 rows)\n",
      "🎲 Sampling 10% from CDs_and_Vinyl_merged.parquet\n"
     ]
    },
    {
     "data": {
      "application/vnd.jupyter.widget-view+json": {
       "model_id": "45a413520d5344d4b8023a07fcd2fff7",
       "version_major": 2,
       "version_minor": 0
      },
      "text/plain": [
       "FloatProgress(value=0.0, layout=Layout(width='auto'), style=ProgressStyle(bar_color='black'))"
      ]
     },
     "metadata": {},
     "output_type": "display_data"
    },
    {
     "name": "stdout",
     "output_type": "stream",
     "text": [
      "✅ Saved sample → /root/Merged-Files/CDs_and_Vinyl_sampled_10pct.parquet (477,207 rows)\n",
      "🎲 Sampling 10% from Digital_Music_merged.parquet\n",
      "✅ Saved sample → /root/Merged-Files/Digital_Music_sampled_10pct.parquet (12,876 rows)\n",
      "🎲 Sampling 10% from Patio_Lawn_and_Garden_merged.parquet\n"
     ]
    },
    {
     "data": {
      "application/vnd.jupyter.widget-view+json": {
       "model_id": "44c27e86a2ac4f76b8d892c331f35649",
       "version_major": 2,
       "version_minor": 0
      },
      "text/plain": [
       "FloatProgress(value=0.0, layout=Layout(width='auto'), style=ProgressStyle(bar_color='black'))"
      ]
     },
     "metadata": {},
     "output_type": "display_data"
    },
    {
     "name": "stdout",
     "output_type": "stream",
     "text": [
      "✅ Saved sample → /root/Merged-Files/Patio_Lawn_and_Garden_sampled_10pct.parquet (1,631,814 rows)\n",
      "🎲 Sampling 10% from Office_Products_merged.parquet\n"
     ]
    },
    {
     "data": {
      "application/vnd.jupyter.widget-view+json": {
       "model_id": "f57106e392d5402095bf613cfad551a8",
       "version_major": 2,
       "version_minor": 0
      },
      "text/plain": [
       "FloatProgress(value=0.0, layout=Layout(width='auto'), style=ProgressStyle(bar_color='black'))"
      ]
     },
     "metadata": {},
     "output_type": "display_data"
    },
    {
     "name": "stdout",
     "output_type": "stream",
     "text": [
      "✅ Saved sample → /root/Merged-Files/Office_Products_sampled_10pct.parquet (1,271,509 rows)\n",
      "🎲 Sampling 10% from Clothing_Shoes_and_Jewelry_merged.parquet\n"
     ]
    },
    {
     "data": {
      "application/vnd.jupyter.widget-view+json": {
       "model_id": "433701481e7f48359101ed3087a038f3",
       "version_major": 2,
       "version_minor": 0
      },
      "text/plain": [
       "FloatProgress(value=0.0, layout=Layout(width='auto'), style=ProgressStyle(bar_color='black'))"
      ]
     },
     "metadata": {},
     "output_type": "display_data"
    },
    {
     "data": {
      "application/vnd.jupyter.widget-view+json": {
       "model_id": "e8fe6b80527b422d83e0974cb047e018",
       "version_major": 2,
       "version_minor": 0
      },
      "text/plain": [
       "FloatProgress(value=0.0, layout=Layout(width='auto'), style=ProgressStyle(bar_color='black'))"
      ]
     },
     "metadata": {},
     "output_type": "display_data"
    },
    {
     "name": "stdout",
     "output_type": "stream",
     "text": [
      "✅ Saved sample → /root/Merged-Files/Clothing_Shoes_and_Jewelry_sampled_10pct.parquet (6,603,334 rows)\n",
      "🎲 Sampling 10% from Health_and_Household_merged.parquet\n"
     ]
    },
    {
     "data": {
      "application/vnd.jupyter.widget-view+json": {
       "model_id": "7361da8abb0d49dea3628e902753471a",
       "version_major": 2,
       "version_minor": 0
      },
      "text/plain": [
       "FloatProgress(value=0.0, layout=Layout(width='auto'), style=ProgressStyle(bar_color='black'))"
      ]
     },
     "metadata": {},
     "output_type": "display_data"
    },
    {
     "data": {
      "application/vnd.jupyter.widget-view+json": {
       "model_id": "bbf66356b2ce46d7a011fd5667f2f570",
       "version_major": 2,
       "version_minor": 0
      },
      "text/plain": [
       "FloatProgress(value=0.0, layout=Layout(width='auto'), style=ProgressStyle(bar_color='black'))"
      ]
     },
     "metadata": {},
     "output_type": "display_data"
    },
    {
     "name": "stdout",
     "output_type": "stream",
     "text": [
      "✅ Saved sample → /root/Merged-Files/Health_and_Household_sampled_10pct.parquet (2,537,070 rows)\n",
      "🎲 Sampling 10% from Pet_Supplies_merged.parquet\n"
     ]
    },
    {
     "data": {
      "application/vnd.jupyter.widget-view+json": {
       "model_id": "b031a88f58ce475eaa29f1426b1f1b51",
       "version_major": 2,
       "version_minor": 0
      },
      "text/plain": [
       "FloatProgress(value=0.0, layout=Layout(width='auto'), style=ProgressStyle(bar_color='black'))"
      ]
     },
     "metadata": {},
     "output_type": "display_data"
    },
    {
     "data": {
      "application/vnd.jupyter.widget-view+json": {
       "model_id": "51d9bc7e56924409a94ec8e2ea008782",
       "version_major": 2,
       "version_minor": 0
      },
      "text/plain": [
       "FloatProgress(value=0.0, layout=Layout(width='auto'), style=ProgressStyle(bar_color='black'))"
      ]
     },
     "metadata": {},
     "output_type": "display_data"
    },
    {
     "name": "stdout",
     "output_type": "stream",
     "text": [
      "✅ Saved sample → /root/Merged-Files/Pet_Supplies_sampled_10pct.parquet (1,667,302 rows)\n",
      "🎲 Sampling 10% from Gift_Cards_merged.parquet\n",
      "✅ Saved sample → /root/Merged-Files/Gift_Cards_sampled_10pct.parquet (15,098 rows)\n",
      "🎲 Sampling 10% from All_Beauty_merged.parquet\n",
      "✅ Saved sample → /root/Merged-Files/All_Beauty_sampled_10pct.parquet (69,425 rows)\n",
      "🎲 Sampling 10% from Cell_Phones_and_Accessories_merged.parquet\n"
     ]
    },
    {
     "data": {
      "application/vnd.jupyter.widget-view+json": {
       "model_id": "ca24cb0cf06645418c8acb4ac6d6a6bd",
       "version_major": 2,
       "version_minor": 0
      },
      "text/plain": [
       "FloatProgress(value=0.0, layout=Layout(width='auto'), style=ProgressStyle(bar_color='black'))"
      ]
     },
     "metadata": {},
     "output_type": "display_data"
    },
    {
     "data": {
      "application/vnd.jupyter.widget-view+json": {
       "model_id": "3d62b7959eba4651bc9f5bbffad3456b",
       "version_major": 2,
       "version_minor": 0
      },
      "text/plain": [
       "FloatProgress(value=0.0, layout=Layout(width='auto'), style=ProgressStyle(bar_color='black'))"
      ]
     },
     "metadata": {},
     "output_type": "display_data"
    },
    {
     "name": "stdout",
     "output_type": "stream",
     "text": [
      "✅ Saved sample → /root/Merged-Files/Cell_Phones_and_Accessories_sampled_10pct.parquet (2,057,638 rows)\n",
      "🎲 Sampling 10% from Toys_and_Games_merged.parquet\n"
     ]
    },
    {
     "data": {
      "application/vnd.jupyter.widget-view+json": {
       "model_id": "3dee1942d78c469c845fa5ca11293b4a",
       "version_major": 2,
       "version_minor": 0
      },
      "text/plain": [
       "FloatProgress(value=0.0, layout=Layout(width='auto'), style=ProgressStyle(bar_color='black'))"
      ]
     },
     "metadata": {},
     "output_type": "display_data"
    },
    {
     "name": "stdout",
     "output_type": "stream",
     "text": [
      "✅ Saved sample → /root/Merged-Files/Toys_and_Games_sampled_10pct.parquet (1,608,635 rows)\n",
      "🎲 Sampling 10% from Books_merged.parquet\n"
     ]
    },
    {
     "data": {
      "application/vnd.jupyter.widget-view+json": {
       "model_id": "0e6d5a49246b42cfa8ec48b2b391b455",
       "version_major": 2,
       "version_minor": 0
      },
      "text/plain": [
       "FloatProgress(value=0.0, layout=Layout(width='auto'), style=ProgressStyle(bar_color='black'))"
      ]
     },
     "metadata": {},
     "output_type": "display_data"
    },
    {
     "data": {
      "application/vnd.jupyter.widget-view+json": {
       "model_id": "2297e56ce1fd4b97aa91e52f35d90a25",
       "version_major": 2,
       "version_minor": 0
      },
      "text/plain": [
       "FloatProgress(value=0.0, layout=Layout(width='auto'), style=ProgressStyle(bar_color='black'))"
      ]
     },
     "metadata": {},
     "output_type": "display_data"
    },
    {
     "name": "stdout",
     "output_type": "stream",
     "text": [
      "✅ Saved sample → /root/Merged-Files/Books_sampled_10pct.parquet (2,947,544 rows)\n",
      "🎲 Sampling 10% from Appliances_merged.parquet\n"
     ]
    },
    {
     "data": {
      "application/vnd.jupyter.widget-view+json": {
       "model_id": "7fadb332446641cba0dbc4143809c656",
       "version_major": 2,
       "version_minor": 0
      },
      "text/plain": [
       "FloatProgress(value=0.0, layout=Layout(width='auto'), style=ProgressStyle(bar_color='black'))"
      ]
     },
     "metadata": {},
     "output_type": "display_data"
    },
    {
     "name": "stdout",
     "output_type": "stream",
     "text": [
      "✅ Saved sample → /root/Merged-Files/Appliances_sampled_10pct.parquet (210,594 rows)\n"
     ]
    }
   ],
   "source": [
    "CLEANED_DIR = \"/root/Merged-Files\"\n",
    "all_files = glob.glob(os.path.join(CLEANED_DIR, \"*_merged.parquet\"))\n",
    "\n",
    "for file in all_files:\n",
    "    sample_parquet_file(file, sample_pct=10)"
   ]
  },
  {
   "cell_type": "code",
   "execution_count": 12,
   "id": "a20cc605",
   "metadata": {},
   "outputs": [],
   "source": [
    "import duckdb\n",
    "import glob\n",
    "import os\n",
    "\n",
    "def combine_parquet_files(CLEANED_DIR, SAMPLE_PERCENT):\n",
    "    output_path = os.path.join(CLEANED_DIR, f\"all_categories_sampled_{SAMPLE_PERCENT}pct.parquet\")\n",
    "    sampled_files = glob.glob(os.path.join(CLEANED_DIR, f\"*sampled_{SAMPLE_PERCENT}pct.parquet\"))\n",
    "\n",
    "    print(f\"🔗 Combining {len(sampled_files)} sampled files...\")\n",
    "\n",
    "    try:\n",
    "        con = duckdb.connect()\n",
    "\n",
    "        # Step 1: Collect all unique column names\n",
    "        all_columns = set()\n",
    "        for file in sampled_files:\n",
    "            cols = con.execute(f\"DESCRIBE SELECT * FROM read_parquet('{file}')\").fetchall()\n",
    "            all_columns.update([col[0] for col in cols])\n",
    "\n",
    "        all_columns = sorted(all_columns)\n",
    "\n",
    "        # Step 2: Build SELECT statements with aligned columns\n",
    "        select_stmts = []\n",
    "        for file in sampled_files:\n",
    "            cols = con.execute(f\"DESCRIBE SELECT * FROM read_parquet('{file}')\").fetchall()\n",
    "            file_columns = [col[0] for col in cols]\n",
    "\n",
    "            # Normalize the columns: use real column or NULL AS column\n",
    "            select_exprs = [\n",
    "                col if col in file_columns else f\"NULL AS {col}\" for col in all_columns\n",
    "            ]\n",
    "\n",
    "            select_stmt = f\"SELECT {', '.join(select_exprs)} FROM read_parquet('{file}')\"\n",
    "            select_stmts.append(select_stmt)\n",
    "\n",
    "        # Step 3: Combine and write to disk\n",
    "        union_query = \" UNION ALL \".join(select_stmts)\n",
    "        con.execute(f\"COPY ({union_query}) TO '{output_path}' (FORMAT PARQUET);\")\n",
    "        con.close()\n",
    "\n",
    "        print(f\"✅ Combined file saved to {output_path}\")\n",
    "\n",
    "    except Exception as e:\n",
    "        print(f\"❌ Failed to combine: {e}\")\n",
    "        try:\n",
    "            con.close()\n",
    "        except:\n",
    "            pass"
   ]
  },
  {
   "cell_type": "code",
   "execution_count": null,
   "id": "d40ce7ff",
   "metadata": {},
   "outputs": [],
   "source": [
    "# combine_parquet_files(CLEANED_DIR, SAMPLE_PERCENT=10)"
   ]
  }
 ],
 "metadata": {
  "kernelspec": {
   "display_name": "base",
   "language": "python",
   "name": "python3"
  },
  "language_info": {
   "codemirror_mode": {
    "name": "ipython",
    "version": 3
   },
   "file_extension": ".py",
   "mimetype": "text/x-python",
   "name": "python",
   "nbconvert_exporter": "python",
   "pygments_lexer": "ipython3",
   "version": "3.10.9"
  }
 },
 "nbformat": 4,
 "nbformat_minor": 5
}
